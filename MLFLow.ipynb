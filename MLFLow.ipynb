{
 "cells": [
  {
   "cell_type": "code",
   "execution_count": 1,
   "metadata": {},
   "outputs": [
    {
     "name": "stderr",
     "output_type": "stream",
     "text": [
      "t=2024-07-29T10:21:47-0500 lvl=eror msg=\"failed to reconnect session\" obj=tunnels.session err=\"failed to send authentication request: failed to fetch CRL. errors encountered: Get \\\"http://crl.ngrok-agent.com/ngrok.crl\\\": Non-200 response from proxy server: 403 Forbidden\"\n",
      "t=2024-07-29T10:21:47-0500 lvl=eror msg=\"failed to reconnect session\" obj=tunnels.session err=\"failed to send authentication request: failed to fetch CRL. errors encountered: Get \\\"http://crl.ngrok-agent.com/ngrok.crl\\\": Non-200 response from proxy server: 403 Forbidden\"\n",
      "[2024-07-29 10:21:48 -0500] [1830577] [INFO] Starting gunicorn 22.0.0\n",
      "[2024-07-29 10:21:48 -0500] [1830577] [ERROR] Connection in use: ('127.0.0.1', 5000)\n",
      "[2024-07-29 10:21:48 -0500] [1830577] [ERROR] Retrying in 1 second.\n",
      "t=2024-07-29T10:21:48-0500 lvl=eror msg=\"failed to reconnect session\" obj=tunnels.session err=\"failed to send authentication request: failed to fetch CRL. errors encountered: Get \\\"http://crl.ngrok-agent.com/ngrok.crl\\\": Non-200 response from proxy server: 403 Forbidden\"\n",
      "[2024-07-29 10:21:49 -0500] [1830577] [ERROR] Connection in use: ('127.0.0.1', 5000)\n",
      "[2024-07-29 10:21:49 -0500] [1830577] [ERROR] Retrying in 1 second.\n",
      "[2024-07-29 10:21:50 -0500] [1830577] [ERROR] Connection in use: ('127.0.0.1', 5000)\n",
      "[2024-07-29 10:21:50 -0500] [1830577] [ERROR] Retrying in 1 second.\n",
      "t=2024-07-29T10:21:50-0500 lvl=eror msg=\"failed to reconnect session\" obj=tunnels.session err=\"failed to send authentication request: failed to fetch CRL. errors encountered: Get \\\"http://crl.ngrok-agent.com/ngrok.crl\\\": Non-200 response from proxy server: 403 Forbidden\"\n",
      "[2024-07-29 10:21:51 -0500] [1830577] [ERROR] Connection in use: ('127.0.0.1', 5000)\n",
      "[2024-07-29 10:21:51 -0500] [1830577] [ERROR] Retrying in 1 second.\n",
      "[2024-07-29 10:21:52 -0500] [1830577] [ERROR] Connection in use: ('127.0.0.1', 5000)\n",
      "[2024-07-29 10:21:52 -0500] [1830577] [ERROR] Retrying in 1 second.\n",
      "[2024-07-29 10:21:53 -0500] [1830577] [ERROR] Can't connect to ('127.0.0.1', 5000)\n",
      "Running the mlflow server failed. Please see the logs above for details.\n",
      "t=2024-07-29T10:21:54-0500 lvl=eror msg=\"failed to reconnect session\" obj=tunnels.session err=\"failed to send authentication request: failed to fetch CRL. errors encountered: Get \\\"http://crl.ngrok-agent.com/ngrok.crl\\\": Non-200 response from proxy server: 403 Forbidden\"\n",
      "t=2024-07-29T10:22:03-0500 lvl=eror msg=\"failed to reconnect session\" obj=tunnels.session err=\"failed to send authentication request: failed to fetch CRL. errors encountered: Get \\\"http://crl.ngrok-agent.com/ngrok.crl\\\": Non-200 response from proxy server: 403 Forbidden\"\n"
     ]
    },
    {
     "ename": "PyngrokNgrokError",
     "evalue": "The ngrok process errored on start: failed to send authentication request: failed to fetch CRL. errors encountered: Get \"http://crl.ngrok-agent.com/ngrok.crl\": Non-200 response from proxy server: 403 Forbidden.",
     "output_type": "error",
     "traceback": [
      "\u001b[0;31m---------------------------------------------------------------------------\u001b[0m",
      "\u001b[0;31mPyngrokNgrokError\u001b[0m                         Traceback (most recent call last)",
      "Cell \u001b[0;32mIn[1], line 12\u001b[0m\n\u001b[1;32m      9\u001b[0m ngrok\u001b[39m.\u001b[39mset_auth_token(\u001b[39m\"\u001b[39m\u001b[39m2K0Su18e3RupXt2nhqBPds10VN0_5nVVwNWUAQBa8ZCVvgQ9c\u001b[39m\u001b[39m\"\u001b[39m)\n\u001b[1;32m     11\u001b[0m \u001b[39m# Start ngrok tunnel\u001b[39;00m\n\u001b[0;32m---> 12\u001b[0m public_url \u001b[39m=\u001b[39m ngrok\u001b[39m.\u001b[39;49mconnect(addr\u001b[39m=\u001b[39;49m\u001b[39m\"\u001b[39;49m\u001b[39m5000\u001b[39;49m\u001b[39m\"\u001b[39;49m, proto\u001b[39m=\u001b[39;49m\u001b[39m\"\u001b[39;49m\u001b[39mhttp\u001b[39;49m\u001b[39m\"\u001b[39;49m, bind_tls\u001b[39m=\u001b[39;49m\u001b[39mTrue\u001b[39;49;00m)\u001b[39m.\u001b[39mpublic_url\n\u001b[1;32m     13\u001b[0m \u001b[39mprint\u001b[39m(\u001b[39m\"\u001b[39m\u001b[39mngrok tunnel URL:\u001b[39m\u001b[39m\"\u001b[39m, public_url)\n",
      "File \u001b[0;32m~/virtenvs/SSLUnet/lib/python3.11/site-packages/pyngrok/ngrok.py:316\u001b[0m, in \u001b[0;36mconnect\u001b[0;34m(addr, proto, name, pyngrok_config, **options)\u001b[0m\n\u001b[1;32m    312\u001b[0m             options[\u001b[39m\"\u001b[39m\u001b[39mbasic_auth\u001b[39m\u001b[39m\"\u001b[39m] \u001b[39m=\u001b[39m [auth]\n\u001b[1;32m    314\u001b[0m         options\u001b[39m.\u001b[39mpop(\u001b[39m\"\u001b[39m\u001b[39mauth\u001b[39m\u001b[39m\"\u001b[39m)\n\u001b[0;32m--> 316\u001b[0m api_url \u001b[39m=\u001b[39m get_ngrok_process(pyngrok_config)\u001b[39m.\u001b[39mapi_url\n\u001b[1;32m    318\u001b[0m logger\u001b[39m.\u001b[39mdebug(\u001b[39mf\u001b[39m\u001b[39m\"\u001b[39m\u001b[39mCreating tunnel with options: \u001b[39m\u001b[39m{\u001b[39;00moptions\u001b[39m}\u001b[39;00m\u001b[39m\"\u001b[39m)\n\u001b[1;32m    320\u001b[0m tunnel \u001b[39m=\u001b[39m NgrokTunnel(api_request(\u001b[39mf\u001b[39m\u001b[39m\"\u001b[39m\u001b[39m{\u001b[39;00mapi_url\u001b[39m}\u001b[39;00m\u001b[39m/api/tunnels\u001b[39m\u001b[39m\"\u001b[39m, method\u001b[39m=\u001b[39m\u001b[39m\"\u001b[39m\u001b[39mPOST\u001b[39m\u001b[39m\"\u001b[39m, data\u001b[39m=\u001b[39moptions,\n\u001b[1;32m    321\u001b[0m                                  timeout\u001b[39m=\u001b[39mpyngrok_config\u001b[39m.\u001b[39mrequest_timeout),\n\u001b[1;32m    322\u001b[0m                      pyngrok_config, api_url)\n",
      "File \u001b[0;32m~/virtenvs/SSLUnet/lib/python3.11/site-packages/pyngrok/ngrok.py:156\u001b[0m, in \u001b[0;36mget_ngrok_process\u001b[0;34m(pyngrok_config)\u001b[0m\n\u001b[1;32m    152\u001b[0m     pyngrok_config \u001b[39m=\u001b[39m conf\u001b[39m.\u001b[39mget_default()\n\u001b[1;32m    154\u001b[0m install_ngrok(pyngrok_config)\n\u001b[0;32m--> 156\u001b[0m \u001b[39mreturn\u001b[39;00m process\u001b[39m.\u001b[39;49mget_process(pyngrok_config)\n",
      "File \u001b[0;32m~/virtenvs/SSLUnet/lib/python3.11/site-packages/pyngrok/process.py:235\u001b[0m, in \u001b[0;36mget_process\u001b[0;34m(pyngrok_config)\u001b[0m\n\u001b[1;32m    232\u001b[0m \u001b[39mif\u001b[39;00m is_process_running(pyngrok_config\u001b[39m.\u001b[39mngrok_path):\n\u001b[1;32m    233\u001b[0m     \u001b[39mreturn\u001b[39;00m _current_processes[pyngrok_config\u001b[39m.\u001b[39mngrok_path]\n\u001b[0;32m--> 235\u001b[0m \u001b[39mreturn\u001b[39;00m _start_process(pyngrok_config)\n",
      "File \u001b[0;32m~/virtenvs/SSLUnet/lib/python3.11/site-packages/pyngrok/process.py:398\u001b[0m, in \u001b[0;36m_start_process\u001b[0;34m(pyngrok_config)\u001b[0m\n\u001b[1;32m    395\u001b[0m kill_process(pyngrok_config\u001b[39m.\u001b[39mngrok_path)\n\u001b[1;32m    397\u001b[0m \u001b[39mif\u001b[39;00m ngrok_process\u001b[39m.\u001b[39mstartup_error \u001b[39mis\u001b[39;00m \u001b[39mnot\u001b[39;00m \u001b[39mNone\u001b[39;00m:\n\u001b[0;32m--> 398\u001b[0m     \u001b[39mraise\u001b[39;00m PyngrokNgrokError(\u001b[39mf\u001b[39m\u001b[39m\"\u001b[39m\u001b[39mThe ngrok process errored on start: \u001b[39m\u001b[39m{\u001b[39;00mngrok_process\u001b[39m.\u001b[39mstartup_error\u001b[39m}\u001b[39;00m\u001b[39m.\u001b[39m\u001b[39m\"\u001b[39m,\n\u001b[1;32m    399\u001b[0m                             ngrok_process\u001b[39m.\u001b[39mlogs,\n\u001b[1;32m    400\u001b[0m                             ngrok_process\u001b[39m.\u001b[39mstartup_error)\n\u001b[1;32m    401\u001b[0m \u001b[39melse\u001b[39;00m:\n\u001b[1;32m    402\u001b[0m     \u001b[39mraise\u001b[39;00m PyngrokNgrokError(\u001b[39m\"\u001b[39m\u001b[39mThe ngrok process was unable to start.\u001b[39m\u001b[39m\"\u001b[39m, ngrok_process\u001b[39m.\u001b[39mlogs)\n",
      "\u001b[0;31mPyngrokNgrokError\u001b[0m: The ngrok process errored on start: failed to send authentication request: failed to fetch CRL. errors encountered: Get \"http://crl.ngrok-agent.com/ngrok.crl\": Non-200 response from proxy server: 403 Forbidden."
     ]
    }
   ],
   "source": [
    "# start the mlflow tracking\n",
    "from pyngrok import ngrok\n",
    "get_ipython().system_raw(\"mlflow ui --port 5000 &\")\n",
    "\n",
    "\n",
    "ngrok.kill()\n",
    "\n",
    "# Replace with your ngrok auth token\n",
    "ngrok.set_auth_token(\"2K0Su18e3RupXt2nhqBPds10VN0_5nVVwNWUAQBa8ZCVvgQ9c\")\n",
    "\n",
    "# Start ngrok tunnel\n",
    "public_url = ngrok.connect(addr=\"5000\", proto=\"http\", bind_tls=True).public_url\n",
    "print(\"ngrok tunnel URL:\", public_url)\n"
   ]
  },
  {
   "cell_type": "code",
   "execution_count": 13,
   "metadata": {},
   "outputs": [
    {
     "ename": "MlflowException",
     "evalue": "Experiment '3D_Seg_tuning' already exists.",
     "output_type": "error",
     "traceback": [
      "\u001b[0;31m---------------------------------------------------------------------------\u001b[0m",
      "\u001b[0;31mMlflowException\u001b[0m                           Traceback (most recent call last)",
      "Cell \u001b[0;32mIn[13], line 5\u001b[0m\n\u001b[1;32m      2\u001b[0m experiment_name \u001b[39m=\u001b[39m \u001b[39m\"\u001b[39m\u001b[39m3D_Seg_tuning\u001b[39m\u001b[39m\"\u001b[39m\n\u001b[1;32m      3\u001b[0m \u001b[39m# Training Hyper-params\u001b[39;00m\n\u001b[0;32m----> 5\u001b[0m experiment_id \u001b[39m=\u001b[39m mlflow\u001b[39m.\u001b[39;49mcreate_experiment(name\u001b[39m=\u001b[39;49mexperiment_name)\n\u001b[1;32m      6\u001b[0m mlflow\u001b[39m.\u001b[39mset_experiment(experiment_name\u001b[39m=\u001b[39mexperiment_name)\n",
      "File \u001b[0;32m~/virtenvs/SSLUnet/lib/python3.11/site-packages/mlflow/tracking/fluent.py:1725\u001b[0m, in \u001b[0;36mcreate_experiment\u001b[0;34m(name, artifact_location, tags)\u001b[0m\n\u001b[1;32m   1677\u001b[0m \u001b[39mdef\u001b[39;00m \u001b[39mcreate_experiment\u001b[39m(\n\u001b[1;32m   1678\u001b[0m     name: \u001b[39mstr\u001b[39m,\n\u001b[1;32m   1679\u001b[0m     artifact_location: Optional[\u001b[39mstr\u001b[39m] \u001b[39m=\u001b[39m \u001b[39mNone\u001b[39;00m,\n\u001b[1;32m   1680\u001b[0m     tags: Optional[Dict[\u001b[39mstr\u001b[39m, Any]] \u001b[39m=\u001b[39m \u001b[39mNone\u001b[39;00m,\n\u001b[1;32m   1681\u001b[0m ) \u001b[39m-\u001b[39m\u001b[39m>\u001b[39m \u001b[39mstr\u001b[39m:\n\u001b[1;32m   1682\u001b[0m \u001b[39m    \u001b[39m\u001b[39m\"\"\"\u001b[39;00m\n\u001b[1;32m   1683\u001b[0m \u001b[39m    Create an experiment.\u001b[39;00m\n\u001b[1;32m   1684\u001b[0m \n\u001b[0;32m   (...)\u001b[0m\n\u001b[1;32m   1723\u001b[0m \u001b[39m        Creation timestamp: 1662004217511\u001b[39;00m\n\u001b[1;32m   1724\u001b[0m \u001b[39m    \"\"\"\u001b[39;00m\n\u001b[0;32m-> 1725\u001b[0m     \u001b[39mreturn\u001b[39;00m MlflowClient()\u001b[39m.\u001b[39;49mcreate_experiment(name, artifact_location, tags)\n",
      "File \u001b[0;32m~/virtenvs/SSLUnet/lib/python3.11/site-packages/mlflow/tracking/client.py:1294\u001b[0m, in \u001b[0;36mMlflowClient.create_experiment\u001b[0;34m(self, name, artifact_location, tags)\u001b[0m\n\u001b[1;32m   1242\u001b[0m \u001b[39mdef\u001b[39;00m \u001b[39mcreate_experiment\u001b[39m(\n\u001b[1;32m   1243\u001b[0m     \u001b[39mself\u001b[39m,\n\u001b[1;32m   1244\u001b[0m     name: \u001b[39mstr\u001b[39m,\n\u001b[1;32m   1245\u001b[0m     artifact_location: Optional[\u001b[39mstr\u001b[39m] \u001b[39m=\u001b[39m \u001b[39mNone\u001b[39;00m,\n\u001b[1;32m   1246\u001b[0m     tags: Optional[Dict[\u001b[39mstr\u001b[39m, Any]] \u001b[39m=\u001b[39m \u001b[39mNone\u001b[39;00m,\n\u001b[1;32m   1247\u001b[0m ) \u001b[39m-\u001b[39m\u001b[39m>\u001b[39m \u001b[39mstr\u001b[39m:\n\u001b[1;32m   1248\u001b[0m \u001b[39m    \u001b[39m\u001b[39m\"\"\"Create an experiment.\u001b[39;00m\n\u001b[1;32m   1249\u001b[0m \n\u001b[1;32m   1250\u001b[0m \u001b[39m    Args:\u001b[39;00m\n\u001b[0;32m   (...)\u001b[0m\n\u001b[1;32m   1292\u001b[0m \n\u001b[1;32m   1293\u001b[0m \u001b[39m    \"\"\"\u001b[39;00m\n\u001b[0;32m-> 1294\u001b[0m     \u001b[39mreturn\u001b[39;00m \u001b[39mself\u001b[39;49m\u001b[39m.\u001b[39;49m_tracking_client\u001b[39m.\u001b[39;49mcreate_experiment(name, artifact_location, tags)\n",
      "File \u001b[0;32m~/virtenvs/SSLUnet/lib/python3.11/site-packages/mlflow/tracking/_tracking_service/client.py:499\u001b[0m, in \u001b[0;36mTrackingServiceClient.create_experiment\u001b[0;34m(self, name, artifact_location, tags)\u001b[0m\n\u001b[1;32m    485\u001b[0m \u001b[39m\u001b[39m\u001b[39m\"\"\"Create an experiment.\u001b[39;00m\n\u001b[1;32m    486\u001b[0m \n\u001b[1;32m    487\u001b[0m \u001b[39mArgs:\u001b[39;00m\n\u001b[0;32m   (...)\u001b[0m\n\u001b[1;32m    496\u001b[0m \n\u001b[1;32m    497\u001b[0m \u001b[39m\"\"\"\u001b[39;00m\n\u001b[1;32m    498\u001b[0m _validate_experiment_artifact_location(artifact_location)\n\u001b[0;32m--> 499\u001b[0m \u001b[39mreturn\u001b[39;00m \u001b[39mself\u001b[39;49m\u001b[39m.\u001b[39;49mstore\u001b[39m.\u001b[39;49mcreate_experiment(\n\u001b[1;32m    500\u001b[0m     name\u001b[39m=\u001b[39;49mname,\n\u001b[1;32m    501\u001b[0m     artifact_location\u001b[39m=\u001b[39;49martifact_location,\n\u001b[1;32m    502\u001b[0m     tags\u001b[39m=\u001b[39;49m[ExperimentTag(key, value) \u001b[39mfor\u001b[39;49;00m (key, value) \u001b[39min\u001b[39;49;00m tags\u001b[39m.\u001b[39;49mitems()] \u001b[39mif\u001b[39;49;00m tags \u001b[39melse\u001b[39;49;00m [],\n\u001b[1;32m    503\u001b[0m )\n",
      "File \u001b[0;32m~/virtenvs/SSLUnet/lib/python3.11/site-packages/mlflow/store/tracking/file_store.py:394\u001b[0m, in \u001b[0;36mFileStore.create_experiment\u001b[0;34m(self, name, artifact_location, tags)\u001b[0m\n\u001b[1;32m    392\u001b[0m \u001b[39mself\u001b[39m\u001b[39m.\u001b[39m_check_root_dir()\n\u001b[1;32m    393\u001b[0m _validate_experiment_name(name)\n\u001b[0;32m--> 394\u001b[0m \u001b[39mself\u001b[39;49m\u001b[39m.\u001b[39;49m_validate_experiment_does_not_exist(name)\n\u001b[1;32m    395\u001b[0m experiment_id \u001b[39m=\u001b[39m _generate_unique_integer_id()\n\u001b[1;32m    396\u001b[0m \u001b[39mreturn\u001b[39;00m \u001b[39mself\u001b[39m\u001b[39m.\u001b[39m_create_experiment_with_id(name, \u001b[39mstr\u001b[39m(experiment_id), artifact_location, tags)\n",
      "File \u001b[0;32m~/virtenvs/SSLUnet/lib/python3.11/site-packages/mlflow/store/tracking/file_store.py:386\u001b[0m, in \u001b[0;36mFileStore._validate_experiment_does_not_exist\u001b[0;34m(self, name)\u001b[0m\n\u001b[1;32m    378\u001b[0m     \u001b[39mraise\u001b[39;00m MlflowException(\n\u001b[1;32m    379\u001b[0m         \u001b[39m\"\u001b[39m\u001b[39mExperiment \u001b[39m\u001b[39m'\u001b[39m\u001b[39m%s\u001b[39;00m\u001b[39m'\u001b[39m\u001b[39m already exists in deleted state. \u001b[39m\u001b[39m\"\u001b[39m\n\u001b[1;32m    380\u001b[0m         \u001b[39m\"\u001b[39m\u001b[39mYou can restore the experiment, or permanently delete the experiment \u001b[39m\u001b[39m\"\u001b[39m\n\u001b[0;32m   (...)\u001b[0m\n\u001b[1;32m    383\u001b[0m         databricks_pb2\u001b[39m.\u001b[39mRESOURCE_ALREADY_EXISTS,\n\u001b[1;32m    384\u001b[0m     )\n\u001b[1;32m    385\u001b[0m \u001b[39melse\u001b[39;00m:\n\u001b[0;32m--> 386\u001b[0m     \u001b[39mraise\u001b[39;00m MlflowException(\n\u001b[1;32m    387\u001b[0m         \u001b[39mf\u001b[39m\u001b[39m\"\u001b[39m\u001b[39mExperiment \u001b[39m\u001b[39m'\u001b[39m\u001b[39m{\u001b[39;00mexperiment\u001b[39m.\u001b[39mname\u001b[39m}\u001b[39;00m\u001b[39m'\u001b[39m\u001b[39m already exists.\u001b[39m\u001b[39m\"\u001b[39m,\n\u001b[1;32m    388\u001b[0m         databricks_pb2\u001b[39m.\u001b[39mRESOURCE_ALREADY_EXISTS,\n\u001b[1;32m    389\u001b[0m     )\n",
      "\u001b[0;31mMlflowException\u001b[0m: Experiment '3D_Seg_tuning' already exists."
     ]
    }
   ],
   "source": [
    "import mlflow\n",
    "experiment_name = \"3D_Seg_tuning\"\n",
    "# Training Hyper-params\n",
    "\n",
    "experiment_id = mlflow.create_experiment(name=experiment_name)\n",
    "mlflow.set_experiment(experiment_name=experiment_name)\n"
   ]
  },
  {
   "cell_type": "code",
   "execution_count": 14,
   "metadata": {},
   "outputs": [],
   "source": [
    "# Load the libraries\n",
    "import os\n",
    "import torch\n",
    "import numpy as np\n",
    "from tqdm import tqdm\n",
    "import matplotlib.pyplot as plt\n",
    "\n",
    "from monai.losses import DiceCELoss\n",
    "from monai.inferers import sliding_window_inference\n",
    "from monai.config import print_config\n",
    "from monai.transforms import (\n",
    "    AsDiscrete,\n",
    "    Compose,\n",
    "    CropForegroundd,\n",
    "    EnsureChannelFirstd,\n",
    "    LoadImaged,\n",
    "    Orientationd,\n",
    "    RandFlipd,\n",
    "    RandCropByPosNegLabeld,\n",
    "    RandShiftIntensityd,\n",
    "    ScaleIntensityRanged,\n",
    "    Spacingd,\n",
    "    RandRotate90d,\n",
    "    ToTensord,\n",
    "    Resized,\n",
    "    ScaleIntensityd,\n",
    "    SpatialPadd,\n",
    "    RandSpatialCropSamplesd,\n",
    "    LambdaD\n",
    ")\n",
    "\n",
    "from monai.metrics import DiceMetric\n",
    "from monai.networks.nets import UNETR\n",
    "\n",
    "from monai.data import (\n",
    "    DataLoader,\n",
    "    CacheDataset,\n",
    "    load_decathlon_datalist,\n",
    "    decollate_batch,\n",
    ")\n",
    "\n",
    "#print_config()\n"
   ]
  },
  {
   "cell_type": "code",
   "execution_count": 15,
   "metadata": {},
   "outputs": [],
   "source": [
    "logdir = os.path.normpath(\"./logs/FineTune/\")\n",
    "\n",
    "if os.path.exists(logdir) is False:\n",
    "    os.mkdir(logdir)\n"
   ]
  },
  {
   "cell_type": "code",
   "execution_count": 16,
   "metadata": {},
   "outputs": [],
   "source": [
    "# Load the pre-trained model\n",
    "use_pretrained = True\n",
    "pretrained_path = os.path.normpath(\"./logs/Train-Thresh-255-2000EP-16th.pth\")\n"
   ]
  },
  {
   "cell_type": "code",
   "execution_count": 17,
   "metadata": {},
   "outputs": [
    {
     "name": "stdout",
     "output_type": "stream",
     "text": [
      "{'image': './Data/FrenchSpeakerDataset/Segmentations_Val/P1_2.nrrd', 'label': './Data/FrenchSpeakerDataset/Segmentations_Val/P1_2.seg.nrrd'}\n"
     ]
    }
   ],
   "source": [
    "# Convert the train and validation images into a list with locations\n",
    "\n",
    "train_dir = \"./Data/FrenchSpeakerDataset/Segmentations/\"\n",
    "val_dir = \"./Data/FrenchSpeakerDataset/Segmentations_Val/\"\n",
    "\n",
    "# train image file\n",
    "# timage_filenames = sorted([os.path.join(train_dir, f) for f in os.listdir(train_dir) if f.endswith(\"im\")])\n",
    "train_nrrd_files = sorted([os.path.join(train_dir, f) for f in os.listdir(\n",
    "    train_dir) if f.endswith(\".nrrd\") and not f.endswith(\".seg.nrrd\")])\n",
    "train_seg_nrrd_files = sorted([os.path.join(train_dir, f)\n",
    "                               for f in os.listdir(train_dir) if f.endswith(\".seg.nrrd\")])\n",
    "# validation image files\n",
    "val_nrrd_files = sorted([os.path.join(val_dir, f) for f in os.listdir(\n",
    "    val_dir) if f.endswith(\".nrrd\") and not f.endswith(\".seg.nrrd\")])\n",
    "val_seg_nrrd_files = sorted([os.path.join(val_dir, f)\n",
    "                             for f in os.listdir(val_dir) if f.endswith(\".seg.nrrd\")])\n",
    "\n",
    "# Create a list of dictionaries containing the file paths\n",
    "train_datalist = [{\"image\": img, \"label\": lbl}\n",
    "                  for img, lbl in zip(train_nrrd_files, train_seg_nrrd_files)]\n",
    "validation_datalist = [{\"image\": img, \"label\": lbl}\n",
    "                       for img, lbl in zip(val_nrrd_files, val_seg_nrrd_files)]\n",
    "\n",
    "# Print the datalist to verify\n",
    "print(validation_datalist[0])\n"
   ]
  },
  {
   "cell_type": "code",
   "execution_count": 27,
   "metadata": {},
   "outputs": [],
   "source": [
    "# Training Hyper-params\n",
    "lr = 1e-4\n",
    "max_iterations = 60000\n",
    "eval_num = 100\n",
    "experiment_name = \"FrenchSpeaker-Thresh-255-60000St\"\n",
    "# Binarizing function\n",
    "def binarize_label(label):\n",
    "    return (label > 0).astype(label.dtype)\n",
    "\n",
    "#Thresholding fucntion\n",
    "def threshold_image(image):\n",
    "    return np.where(image < 20, 0, image)\n",
    "\n",
    "\n",
    "# Transforms\n",
    "train_transforms = Compose(\n",
    "    [\n",
    "        LoadImaged(keys=[\"image\", \"label\"]),\n",
    "        EnsureChannelFirstd(keys=[\"image\", \"label\"]),\n",
    "        ScaleIntensityd(keys=[\"image\"], minv=0, maxv=255),\n",
    "        LambdaD(keys=\"label\", func=binarize_label),\n",
    "        LambdaD(keys=\"image\", func=threshold_image),\n",
    "        CropForegroundd(keys=[\"image\", \"label\"], source_key=\"image\"),\n",
    "        SpatialPadd(keys=[\"image\", \"label\"], spatial_size=(64, 64, 64)),\n",
    "        RandSpatialCropSamplesd(keys=[\"image\", \"label\"], roi_size=(\n",
    "            64, 64, 64), random_size=False, num_samples=2),\n",
    "        RandFlipd(\n",
    "            keys=[\"image\", \"label\"],\n",
    "            spatial_axis=[0],\n",
    "            prob=0.10,\n",
    "        ),\n",
    "        RandFlipd(\n",
    "            keys=[\"image\", \"label\"],\n",
    "            spatial_axis=[1],\n",
    "            prob=0.10,\n",
    "        ),\n",
    "        RandFlipd(\n",
    "            keys=[\"image\", \"label\"],\n",
    "            spatial_axis=[2],\n",
    "            prob=0.10,\n",
    "        ),\n",
    "        RandRotate90d(\n",
    "            keys=[\"image\", \"label\"],\n",
    "            prob=0.10,\n",
    "            max_k=3,\n",
    "        ),\n",
    "        RandShiftIntensityd(\n",
    "            keys=[\"image\"],\n",
    "            offsets=0.10,\n",
    "            prob=0.50,\n",
    "        ),\n",
    "        ToTensord(keys=[\"image\", \"label\"]),\n",
    "    ]\n",
    ")\n",
    "\n",
    "# Validation transforms\n",
    "val_transforms = Compose(\n",
    "    [\n",
    "        LoadImaged(keys=[\"image\", \"label\"]),\n",
    "        EnsureChannelFirstd(keys=[\"image\", \"label\"]),\n",
    "        ScaleIntensityd(keys=[\"image\"], minv=-1.0, maxv=1.0),\n",
    "        LambdaD(keys=\"label\", func=binarize_label),\n",
    "        CropForegroundd(keys=[\"image\", \"label\"], source_key=\"image\"),\n",
    "        ToTensord(keys=[\"image\", \"label\"]),\n",
    "    ]\n",
    ")\n"
   ]
  },
  {
   "cell_type": "code",
   "execution_count": 28,
   "metadata": {},
   "outputs": [
    {
     "name": "stderr",
     "output_type": "stream",
     "text": [
      "Loading dataset: 100%|██████████| 10/10 [00:00<00:00, 26.43it/s]\n",
      "Loading dataset: 100%|██████████| 1/1 [00:00<00:00, 13.44it/s]\n"
     ]
    }
   ],
   "source": [
    "\n",
    "train_ds = CacheDataset(\n",
    "    data=train_datalist,\n",
    "    transform=train_transforms,\n",
    "    cache_num=24,\n",
    "    cache_rate=1.0,\n",
    "    num_workers=2,\n",
    ")\n",
    "train_loader = DataLoader(train_ds, batch_size=1,\n",
    "                          shuffle=True, num_workers=4, pin_memory=True)\n",
    "val_ds = CacheDataset(data=validation_datalist, transform=val_transforms,\n",
    "                      cache_num=6, cache_rate=1.0, num_workers=4)\n",
    "val_loader = DataLoader(val_ds, batch_size=1,\n",
    "                        shuffle=False, num_workers=4, pin_memory=True)\n"
   ]
  },
  {
   "cell_type": "code",
   "execution_count": 29,
   "metadata": {},
   "outputs": [
    {
     "name": "stdout",
     "output_type": "stream",
     "text": [
      "<class 'numpy.ndarray'>\n",
      "(64, 64)\n"
     ]
    },
    {
     "data": {
      "image/png": "[encoded data removed]",
      "text/plain": [
       "<Figure size 640x480 with 2 Axes>"
      ]
     },
     "metadata": {},
     "output_type": "display_data"
    },
    {
     "name": "stdout",
     "output_type": "stream",
     "text": [
      "0.0\n"
     ]
    }
   ],
   "source": [
    "dataiter = iter(train_loader)\n",
    "data = next(dataiter)\n",
    "number = 15\n",
    "label = data[\"label\"].numpy().squeeze()[0, :, number, :]\n",
    "image = data[\"image\"].numpy().squeeze()[0, :, number, :]\n",
    "print(type(label))\n",
    "print(label.shape)\n",
    "fig, ax = plt.subplots(1, 2)\n",
    "ax[0].imshow(image)\n",
    "ax[0].set_title('Image')\n",
    "ax[0].axis('off')\n",
    "\n",
    "ax[1].imshow(label)\n",
    "ax[1].set_title('Label')\n",
    "ax[1].axis('off')\n",
    "\n",
    "plt.show()\n",
    "print(np.min(image))"
   ]
  },
  {
   "cell_type": "code",
   "execution_count": 30,
   "metadata": {},
   "outputs": [
    {
     "name": "stdout",
     "output_type": "stream",
     "text": [
      "Loading Weights from the Path logs/Train-Thresh-255-2000EP-16th.pth\n",
      "Pretrained Weights Succesfully Loaded !\n"
     ]
    }
   ],
   "source": [
    "#Network\n",
    "device = torch.device(\"cpu\")  # current GPU cannot handle this\n",
    "\n",
    "model = UNETR(\n",
    "    in_channels=1,\n",
    "    out_channels=2,\n",
    "    img_size=(64, 64, 64),\n",
    "    feature_size=16,\n",
    "    hidden_size=768,\n",
    "    mlp_dim=3072,\n",
    "    num_heads=12,\n",
    "    pos_embed=\"conv\",\n",
    "    norm_name=\"instance\",\n",
    "    res_block=True,\n",
    "    dropout_rate=0.5,\n",
    ")\n",
    "\n",
    "# Load ViT backbone weights into UNETR\n",
    "if use_pretrained is True:\n",
    "    print(\"Loading Weights from the Path {}\".format(pretrained_path))\n",
    "    vit_dict = torch.load(pretrained_path)\n",
    "    vit_weights = vit_dict[\"state_dict\"]\n",
    "    model_dict = model.vit.state_dict()\n",
    "\n",
    "    vit_weights = {k: v for k, v in vit_weights.items() if k in model_dict}\n",
    "    model_dict.update(vit_weights)\n",
    "    model.vit.load_state_dict(model_dict)\n",
    "    del model_dict, vit_weights, vit_dict\n",
    "    print(\"Pretrained Weights Succesfully Loaded !\")\n",
    "\n",
    "elif use_pretrained is False:\n",
    "    print(\"No weights were loaded, all weights being used are randomly initialized!\")\n",
    "\n",
    "model.to(device)\n",
    "\n",
    "loss_function = DiceCELoss(to_onehot_y=True, softmax=True)\n",
    "torch.backends.cudnn.benchmark = True\n",
    "optimizer = torch.optim.AdamW(model.parameters(), lr=lr, weight_decay=1e-5)\n",
    "\n",
    "post_label = AsDiscrete(to_onehot=14)\n",
    "post_pred = AsDiscrete(argmax=True, to_onehot=14)\n",
    "dice_metric = DiceMetric(include_background=True,\n",
    "                         reduction=\"mean\", get_not_nans=False)\n",
    "global_step = 0\n",
    "dice_val_best = 0.0\n",
    "global_step_best = 0\n",
    "epoch_loss_values = []\n",
    "metric_values = []\n",
    "lr = 1e-4\n",
    "max_iterations = 200\n",
    "eval_num = 100\n",
    "experiment_name = \"FrenchSpeaker-Thresh-255-Test\"\n"
   ]
  },
  {
   "cell_type": "code",
   "execution_count": 31,
   "metadata": {},
   "outputs": [
    {
     "name": "stderr",
     "output_type": "stream",
     "text": [
      "Training (9 / 200 Steps) (loss=1.22373): 100%|██████████| 10/10 [00:36<00:00,  3.70s/it]\n",
      "Training (19 / 200 Steps) (loss=1.06257): 100%|██████████| 10/10 [00:36<00:00,  3.69s/it]\n",
      "Training (29 / 200 Steps) (loss=1.02213): 100%|██████████| 10/10 [00:36<00:00,  3.65s/it]\n",
      "Training (39 / 200 Steps) (loss=0.98978): 100%|██████████| 10/10 [00:36<00:00,  3.62s/it]\n",
      "Training (49 / 200 Steps) (loss=0.93263): 100%|██████████| 10/10 [00:36<00:00,  3.67s/it]\n",
      "Training (59 / 200 Steps) (loss=1.03578): 100%|██████████| 10/10 [00:36<00:00,  3.67s/it]\n",
      "Training (69 / 200 Steps) (loss=0.89389): 100%|██████████| 10/10 [00:36<00:00,  3.67s/it]\n",
      "Training (79 / 200 Steps) (loss=0.86667): 100%|██████████| 10/10 [00:36<00:00,  3.65s/it]\n",
      "Training (89 / 200 Steps) (loss=0.86098): 100%|██████████| 10/10 [00:36<00:00,  3.65s/it]\n",
      "Training (99 / 200 Steps) (loss=0.84223): 100%|██████████| 10/10 [00:36<00:00,  3.63s/it]\n",
      "Validate (100 / 10 Steps) (dice=0.49655): 100%|██████████| 1/1 [00:05<00:00,  5.63s/it]\n"
     ]
    },
    {
     "name": "stdout",
     "output_type": "stream",
     "text": [
      "Model Was Saved ! Current Best Avg. Dice: 0.496549129486084 Current Avg. Dice: 0.496549129486084\n"
     ]
    },
    {
     "name": "stderr",
     "output_type": "stream",
     "text": [
      "Training (100 / 200 Steps) (loss=0.84774):  10%|█         | 1/10 [00:11<01:42, 11.40s/it]"
     ]
    },
    {
     "name": "stdout",
     "output_type": "stream",
     "text": [
      "Model Was Saved ! Current Best Avg. Dice: 0.496549129486084 Current Avg. Dice: 0.496549129486084\n"
     ]
    },
    {
     "name": "stderr",
     "output_type": "stream",
     "text": [
      "Training (109 / 200 Steps) (loss=0.82564): 100%|██████████| 10/10 [00:43<00:00,  4.40s/it]\n",
      "Training (119 / 200 Steps) (loss=0.82922): 100%|██████████| 10/10 [00:36<00:00,  3.65s/it]\n",
      "Training (129 / 200 Steps) (loss=0.83076): 100%|██████████| 10/10 [00:36<00:00,  3.65s/it]\n",
      "Training (139 / 200 Steps) (loss=0.88436): 100%|██████████| 10/10 [00:36<00:00,  3.66s/it]\n",
      "Training (149 / 200 Steps) (loss=0.79436): 100%|██████████| 10/10 [00:36<00:00,  3.65s/it]\n",
      "Training (159 / 200 Steps) (loss=0.78002): 100%|██████████| 10/10 [00:36<00:00,  3.66s/it]\n",
      "Training (169 / 200 Steps) (loss=0.80506): 100%|██████████| 10/10 [00:36<00:00,  3.65s/it]\n",
      "Training (179 / 200 Steps) (loss=0.96154): 100%|██████████| 10/10 [00:36<00:00,  3.68s/it]\n",
      "Training (189 / 200 Steps) (loss=0.75040): 100%|██████████| 10/10 [00:36<00:00,  3.67s/it]\n",
      "Training (199 / 200 Steps) (loss=0.84209): 100%|██████████| 10/10 [00:36<00:00,  3.64s/it]\n",
      "/home/erattakulangara/virtenvs/SSLUnet/lib/python3.11/site-packages/_distutils_hack/__init__.py:26: UserWarning: Setuptools is replacing distutils.\n",
      "  warnings.warn(\"Setuptools is replacing distutils.\")\n"
     ]
    },
    {
     "ename": "MlflowException",
     "evalue": "The configured tracking uri scheme: 'file' is invalid for use with the proxy mlflow-artifact scheme. The allowed tracking schemes are: {'http', 'https'}",
     "output_type": "error",
     "traceback": [
      "\u001b[0;31m---------------------------------------------------------------------------\u001b[0m",
      "\u001b[0;31mMlflowException\u001b[0m                           Traceback (most recent call last)",
      "Cell \u001b[0;32mIn[31], line 109\u001b[0m\n\u001b[1;32m    105\u001b[0m model\u001b[39m.\u001b[39mload_state_dict(torch\u001b[39m.\u001b[39mload(\n\u001b[1;32m    106\u001b[0m     os\u001b[39m.\u001b[39mpath\u001b[39m.\u001b[39mjoin(logdir, experiment_name \u001b[39m+\u001b[39m \u001b[39m\"\u001b[39m\u001b[39m.pth\u001b[39m\u001b[39m\"\u001b[39m)))\n\u001b[1;32m    108\u001b[0m \u001b[39m# Log final model to MLflow\u001b[39;00m\n\u001b[0;32m--> 109\u001b[0m mlflow\u001b[39m.\u001b[39;49mpytorch\u001b[39m.\u001b[39;49mlog_model(model, \u001b[39mf\u001b[39;49m\u001b[39m'\u001b[39;49m\u001b[39mmodels/\u001b[39;49m\u001b[39m{\u001b[39;49;00mexperiment_name\u001b[39m}\u001b[39;49;00m\u001b[39m_final\u001b[39;49m\u001b[39m'\u001b[39;49m)\n\u001b[1;32m    111\u001b[0m \u001b[39m# Optionally log other information\u001b[39;00m\n\u001b[1;32m    112\u001b[0m mlflow\u001b[39m.\u001b[39mlog_param(\u001b[39m'\u001b[39m\u001b[39mmax_iterations\u001b[39m\u001b[39m'\u001b[39m, max_iterations)\n",
      "File \u001b[0;32m~/virtenvs/SSLUnet/lib/python3.11/site-packages/mlflow/pytorch/__init__.py:295\u001b[0m, in \u001b[0;36mlog_model\u001b[0;34m(pytorch_model, artifact_path, conda_env, code_paths, pickle_module, registered_model_name, signature, input_example, await_registration_for, requirements_file, extra_files, pip_requirements, extra_pip_requirements, metadata, **kwargs)\u001b[0m\n\u001b[1;32m    155\u001b[0m \u001b[39m\u001b[39m\u001b[39m\"\"\"\u001b[39;00m\n\u001b[1;32m    156\u001b[0m \u001b[39mLog a PyTorch model as an MLflow artifact for the current run.\u001b[39;00m\n\u001b[1;32m    157\u001b[0m \n\u001b[0;32m   (...)\u001b[0m\n\u001b[1;32m    292\u001b[0m \u001b[39m    PyTorch logged models\u001b[39;00m\n\u001b[1;32m    293\u001b[0m \u001b[39m\"\"\"\u001b[39;00m\n\u001b[1;32m    294\u001b[0m pickle_module \u001b[39m=\u001b[39m pickle_module \u001b[39mor\u001b[39;00m mlflow_pytorch_pickle_module\n\u001b[0;32m--> 295\u001b[0m \u001b[39mreturn\u001b[39;00m Model\u001b[39m.\u001b[39;49mlog(\n\u001b[1;32m    296\u001b[0m     artifact_path\u001b[39m=\u001b[39;49martifact_path,\n\u001b[1;32m    297\u001b[0m     flavor\u001b[39m=\u001b[39;49mmlflow\u001b[39m.\u001b[39;49mpytorch,\n\u001b[1;32m    298\u001b[0m     pytorch_model\u001b[39m=\u001b[39;49mpytorch_model,\n\u001b[1;32m    299\u001b[0m     conda_env\u001b[39m=\u001b[39;49mconda_env,\n\u001b[1;32m    300\u001b[0m     code_paths\u001b[39m=\u001b[39;49mcode_paths,\n\u001b[1;32m    301\u001b[0m     pickle_module\u001b[39m=\u001b[39;49mpickle_module,\n\u001b[1;32m    302\u001b[0m     registered_model_name\u001b[39m=\u001b[39;49mregistered_model_name,\n\u001b[1;32m    303\u001b[0m     signature\u001b[39m=\u001b[39;49msignature,\n\u001b[1;32m    304\u001b[0m     input_example\u001b[39m=\u001b[39;49minput_example,\n\u001b[1;32m    305\u001b[0m     await_registration_for\u001b[39m=\u001b[39;49mawait_registration_for,\n\u001b[1;32m    306\u001b[0m     requirements_file\u001b[39m=\u001b[39;49mrequirements_file,\n\u001b[1;32m    307\u001b[0m     extra_files\u001b[39m=\u001b[39;49mextra_files,\n\u001b[1;32m    308\u001b[0m     pip_requirements\u001b[39m=\u001b[39;49mpip_requirements,\n\u001b[1;32m    309\u001b[0m     extra_pip_requirements\u001b[39m=\u001b[39;49mextra_pip_requirements,\n\u001b[1;32m    310\u001b[0m     metadata\u001b[39m=\u001b[39;49mmetadata,\n\u001b[1;32m    311\u001b[0m     \u001b[39m*\u001b[39;49m\u001b[39m*\u001b[39;49mkwargs,\n\u001b[1;32m    312\u001b[0m )\n",
      "File \u001b[0;32m~/virtenvs/SSLUnet/lib/python3.11/site-packages/mlflow/models/model.py:699\u001b[0m, in \u001b[0;36mModel.log\u001b[0;34m(cls, artifact_path, flavor, registered_model_name, await_registration_for, metadata, run_id, resources, **kwargs)\u001b[0m\n\u001b[1;32m    695\u001b[0m \u001b[39mif\u001b[39;00m mlflow_model\u001b[39m.\u001b[39msignature \u001b[39mis\u001b[39;00m \u001b[39mNone\u001b[39;00m \u001b[39mand\u001b[39;00m (\n\u001b[1;32m    696\u001b[0m     tracking_uri \u001b[39m==\u001b[39m \u001b[39m\"\u001b[39m\u001b[39mdatabricks\u001b[39m\u001b[39m\"\u001b[39m \u001b[39mor\u001b[39;00m get_uri_scheme(tracking_uri) \u001b[39m==\u001b[39m \u001b[39m\"\u001b[39m\u001b[39mdatabricks\u001b[39m\u001b[39m\"\u001b[39m\n\u001b[1;32m    697\u001b[0m ):\n\u001b[1;32m    698\u001b[0m     _logger\u001b[39m.\u001b[39mwarning(_LOG_MODEL_MISSING_SIGNATURE_WARNING)\n\u001b[0;32m--> 699\u001b[0m mlflow\u001b[39m.\u001b[39;49mtracking\u001b[39m.\u001b[39;49mfluent\u001b[39m.\u001b[39;49mlog_artifacts(local_path, mlflow_model\u001b[39m.\u001b[39;49martifact_path, run_id)\n\u001b[1;32m    701\u001b[0m \u001b[39m# if the model_config kwarg is passed in, then log the model config as an params\u001b[39;00m\n\u001b[1;32m    702\u001b[0m \u001b[39mif\u001b[39;00m model_config \u001b[39m:=\u001b[39m kwargs\u001b[39m.\u001b[39mget(\u001b[39m\"\u001b[39m\u001b[39mmodel_config\u001b[39m\u001b[39m\"\u001b[39m):\n",
      "File \u001b[0;32m~/virtenvs/SSLUnet/lib/python3.11/site-packages/mlflow/tracking/fluent.py:1106\u001b[0m, in \u001b[0;36mlog_artifacts\u001b[0;34m(local_dir, artifact_path, run_id)\u001b[0m\n\u001b[1;32m   1074\u001b[0m \u001b[39m\u001b[39m\u001b[39m\"\"\"\u001b[39;00m\n\u001b[1;32m   1075\u001b[0m \u001b[39mLog all the contents of a local directory as artifacts of the run. If no run is active,\u001b[39;00m\n\u001b[1;32m   1076\u001b[0m \u001b[39mthis method will create a new active run.\u001b[39;00m\n\u001b[0;32m   (...)\u001b[0m\n\u001b[1;32m   1103\u001b[0m \u001b[39m            mlflow.log_artifacts(tmp_dir, artifact_path=\"states\")\u001b[39;00m\n\u001b[1;32m   1104\u001b[0m \u001b[39m\"\"\"\u001b[39;00m\n\u001b[1;32m   1105\u001b[0m run_id \u001b[39m=\u001b[39m run_id \u001b[39mor\u001b[39;00m _get_or_start_run()\u001b[39m.\u001b[39minfo\u001b[39m.\u001b[39mrun_id\n\u001b[0;32m-> 1106\u001b[0m MlflowClient()\u001b[39m.\u001b[39;49mlog_artifacts(run_id, local_dir, artifact_path)\n",
      "File \u001b[0;32m~/virtenvs/SSLUnet/lib/python3.11/site-packages/mlflow/tracking/client.py:1962\u001b[0m, in \u001b[0;36mMlflowClient.log_artifacts\u001b[0;34m(self, run_id, local_dir, artifact_path)\u001b[0m\n\u001b[1;32m   1916\u001b[0m \u001b[39mdef\u001b[39;00m \u001b[39mlog_artifacts\u001b[39m(\n\u001b[1;32m   1917\u001b[0m     \u001b[39mself\u001b[39m, run_id: \u001b[39mstr\u001b[39m, local_dir: \u001b[39mstr\u001b[39m, artifact_path: Optional[\u001b[39mstr\u001b[39m] \u001b[39m=\u001b[39m \u001b[39mNone\u001b[39;00m\n\u001b[1;32m   1918\u001b[0m ) \u001b[39m-\u001b[39m\u001b[39m>\u001b[39m \u001b[39mNone\u001b[39;00m:\n\u001b[1;32m   1919\u001b[0m \u001b[39m    \u001b[39m\u001b[39m\"\"\"Write a directory of files to the remote ``artifact_uri``.\u001b[39;00m\n\u001b[1;32m   1920\u001b[0m \n\u001b[1;32m   1921\u001b[0m \u001b[39m    Args:\u001b[39;00m\n\u001b[0;32m   (...)\u001b[0m\n\u001b[1;32m   1960\u001b[0m \n\u001b[1;32m   1961\u001b[0m \u001b[39m    \"\"\"\u001b[39;00m\n\u001b[0;32m-> 1962\u001b[0m     \u001b[39mself\u001b[39;49m\u001b[39m.\u001b[39;49m_tracking_client\u001b[39m.\u001b[39;49mlog_artifacts(run_id, local_dir, artifact_path)\n",
      "File \u001b[0;32m~/virtenvs/SSLUnet/lib/python3.11/site-packages/mlflow/tracking/_tracking_service/client.py:841\u001b[0m, in \u001b[0;36mTrackingServiceClient.log_artifacts\u001b[0;34m(self, run_id, local_dir, artifact_path)\u001b[0m\n\u001b[1;32m    833\u001b[0m \u001b[39mdef\u001b[39;00m \u001b[39mlog_artifacts\u001b[39m(\u001b[39mself\u001b[39m, run_id, local_dir, artifact_path\u001b[39m=\u001b[39m\u001b[39mNone\u001b[39;00m):\n\u001b[1;32m    834\u001b[0m \u001b[39m    \u001b[39m\u001b[39m\"\"\"Write a directory of files to the remote ``artifact_uri``.\u001b[39;00m\n\u001b[1;32m    835\u001b[0m \n\u001b[1;32m    836\u001b[0m \u001b[39m    Args:\u001b[39;00m\n\u001b[0;32m   (...)\u001b[0m\n\u001b[1;32m    839\u001b[0m \n\u001b[1;32m    840\u001b[0m \u001b[39m    \"\"\"\u001b[39;00m\n\u001b[0;32m--> 841\u001b[0m     \u001b[39mself\u001b[39;49m\u001b[39m.\u001b[39;49m_get_artifact_repo(run_id)\u001b[39m.\u001b[39mlog_artifacts(local_dir, artifact_path)\n",
      "File \u001b[0;32m~/virtenvs/SSLUnet/lib/python3.11/site-packages/mlflow/tracking/_tracking_service/client.py:786\u001b[0m, in \u001b[0;36mTrackingServiceClient._get_artifact_repo\u001b[0;34m(self, run_id)\u001b[0m\n\u001b[1;32m    782\u001b[0m run \u001b[39m=\u001b[39m \u001b[39mself\u001b[39m\u001b[39m.\u001b[39mget_run(run_id)\n\u001b[1;32m    783\u001b[0m artifact_uri \u001b[39m=\u001b[39m add_databricks_profile_info_to_artifact_uri(\n\u001b[1;32m    784\u001b[0m     run\u001b[39m.\u001b[39minfo\u001b[39m.\u001b[39martifact_uri, \u001b[39mself\u001b[39m\u001b[39m.\u001b[39mtracking_uri\n\u001b[1;32m    785\u001b[0m )\n\u001b[0;32m--> 786\u001b[0m artifact_repo \u001b[39m=\u001b[39m get_artifact_repository(artifact_uri)\n\u001b[1;32m    787\u001b[0m \u001b[39m# Cache the artifact repo to avoid a future network call, removing the oldest\u001b[39;00m\n\u001b[1;32m    788\u001b[0m \u001b[39m# entry in the cache if there are too many elements\u001b[39;00m\n\u001b[1;32m    789\u001b[0m \u001b[39mif\u001b[39;00m \u001b[39mlen\u001b[39m(utils\u001b[39m.\u001b[39m_artifact_repos_cache) \u001b[39m>\u001b[39m \u001b[39m1024\u001b[39m:\n",
      "File \u001b[0;32m~/virtenvs/SSLUnet/lib/python3.11/site-packages/mlflow/store/artifact/artifact_repository_registry.py:124\u001b[0m, in \u001b[0;36mget_artifact_repository\u001b[0;34m(artifact_uri)\u001b[0m\n\u001b[1;32m    111\u001b[0m \u001b[39mdef\u001b[39;00m \u001b[39mget_artifact_repository\u001b[39m(artifact_uri: \u001b[39mstr\u001b[39m) \u001b[39m-\u001b[39m\u001b[39m>\u001b[39m ArtifactRepository:\n\u001b[1;32m    112\u001b[0m \u001b[39m    \u001b[39m\u001b[39m\"\"\"\u001b[39;00m\n\u001b[1;32m    113\u001b[0m \u001b[39m    Get an artifact repository from the registry based on the scheme of artifact_uri\u001b[39;00m\n\u001b[1;32m    114\u001b[0m \n\u001b[0;32m   (...)\u001b[0m\n\u001b[1;32m    122\u001b[0m \u001b[39m        requirements.\u001b[39;00m\n\u001b[1;32m    123\u001b[0m \u001b[39m    \"\"\"\u001b[39;00m\n\u001b[0;32m--> 124\u001b[0m     \u001b[39mreturn\u001b[39;00m _artifact_repository_registry\u001b[39m.\u001b[39;49mget_artifact_repository(artifact_uri)\n",
      "File \u001b[0;32m~/virtenvs/SSLUnet/lib/python3.11/site-packages/mlflow/store/artifact/artifact_repository_registry.py:77\u001b[0m, in \u001b[0;36mArtifactRepositoryRegistry.get_artifact_repository\u001b[0;34m(self, artifact_uri)\u001b[0m\n\u001b[1;32m     72\u001b[0m \u001b[39mif\u001b[39;00m repository \u001b[39mis\u001b[39;00m \u001b[39mNone\u001b[39;00m:\n\u001b[1;32m     73\u001b[0m     \u001b[39mraise\u001b[39;00m MlflowException(\n\u001b[1;32m     74\u001b[0m         \u001b[39mf\u001b[39m\u001b[39m\"\u001b[39m\u001b[39mCould not find a registered artifact repository for: \u001b[39m\u001b[39m{\u001b[39;00martifact_uri\u001b[39m}\u001b[39;00m\u001b[39m. \u001b[39m\u001b[39m\"\u001b[39m\n\u001b[1;32m     75\u001b[0m         \u001b[39mf\u001b[39m\u001b[39m\"\u001b[39m\u001b[39mCurrently registered schemes are: \u001b[39m\u001b[39m{\u001b[39;00m\u001b[39mlist\u001b[39m(\u001b[39mself\u001b[39m\u001b[39m.\u001b[39m_registry\u001b[39m.\u001b[39mkeys())\u001b[39m}\u001b[39;00m\u001b[39m\"\u001b[39m\n\u001b[1;32m     76\u001b[0m     )\n\u001b[0;32m---> 77\u001b[0m \u001b[39mreturn\u001b[39;00m repository(artifact_uri)\n",
      "File \u001b[0;32m~/virtenvs/SSLUnet/lib/python3.11/site-packages/mlflow/store/artifact/mlflow_artifacts_repo.py:45\u001b[0m, in \u001b[0;36mMlflowArtifactsRepository.__init__\u001b[0;34m(self, artifact_uri)\u001b[0m\n\u001b[1;32m     44\u001b[0m \u001b[39mdef\u001b[39;00m \u001b[39m__init__\u001b[39m(\u001b[39mself\u001b[39m, artifact_uri):\n\u001b[0;32m---> 45\u001b[0m     \u001b[39msuper\u001b[39m()\u001b[39m.\u001b[39m\u001b[39m__init__\u001b[39m(\u001b[39mself\u001b[39;49m\u001b[39m.\u001b[39;49mresolve_uri(artifact_uri, get_tracking_uri()))\n",
      "File \u001b[0;32m~/virtenvs/SSLUnet/lib/python3.11/site-packages/mlflow/store/artifact/mlflow_artifacts_repo.py:59\u001b[0m, in \u001b[0;36mMlflowArtifactsRepository.resolve_uri\u001b[0;34m(cls, artifact_uri, tracking_uri)\u001b[0m\n\u001b[1;32m     56\u001b[0m _validate_port_mapped_to_hostname(uri_parse)\n\u001b[1;32m     58\u001b[0m \u001b[39m# Check that tracking uri is http or https\u001b[39;00m\n\u001b[0;32m---> 59\u001b[0m _validate_uri_scheme(track_parse\u001b[39m.\u001b[39;49mscheme)\n\u001b[1;32m     61\u001b[0m \u001b[39mif\u001b[39;00m uri_parse\u001b[39m.\u001b[39mpath \u001b[39m==\u001b[39m \u001b[39m\"\u001b[39m\u001b[39m/\u001b[39m\u001b[39m\"\u001b[39m:  \u001b[39m# root directory; build simple path\u001b[39;00m\n\u001b[1;32m     62\u001b[0m     resolved \u001b[39m=\u001b[39m \u001b[39mf\u001b[39m\u001b[39m\"\u001b[39m\u001b[39m{\u001b[39;00mbase_url\u001b[39m}\u001b[39;00m\u001b[39m{\u001b[39;00muri_parse\u001b[39m.\u001b[39mpath\u001b[39m}\u001b[39;00m\u001b[39m\"\u001b[39m\n",
      "File \u001b[0;32m~/virtenvs/SSLUnet/lib/python3.11/site-packages/mlflow/store/artifact/mlflow_artifacts_repo.py:35\u001b[0m, in \u001b[0;36m_validate_uri_scheme\u001b[0;34m(scheme)\u001b[0m\n\u001b[1;32m     33\u001b[0m allowable_schemes \u001b[39m=\u001b[39m {\u001b[39m\"\u001b[39m\u001b[39mhttp\u001b[39m\u001b[39m\"\u001b[39m, \u001b[39m\"\u001b[39m\u001b[39mhttps\u001b[39m\u001b[39m\"\u001b[39m}\n\u001b[1;32m     34\u001b[0m \u001b[39mif\u001b[39;00m scheme \u001b[39mnot\u001b[39;00m \u001b[39min\u001b[39;00m allowable_schemes:\n\u001b[0;32m---> 35\u001b[0m     \u001b[39mraise\u001b[39;00m MlflowException(\n\u001b[1;32m     36\u001b[0m         \u001b[39mf\u001b[39m\u001b[39m\"\u001b[39m\u001b[39mThe configured tracking uri scheme: \u001b[39m\u001b[39m'\u001b[39m\u001b[39m{\u001b[39;00mscheme\u001b[39m}\u001b[39;00m\u001b[39m'\u001b[39m\u001b[39m is invalid for use with the proxy \u001b[39m\u001b[39m\"\u001b[39m\n\u001b[1;32m     37\u001b[0m         \u001b[39mf\u001b[39m\u001b[39m\"\u001b[39m\u001b[39mmlflow-artifact scheme. The allowed tracking schemes are: \u001b[39m\u001b[39m{\u001b[39;00mallowable_schemes\u001b[39m}\u001b[39;00m\u001b[39m\"\u001b[39m\n\u001b[1;32m     38\u001b[0m     )\n",
      "\u001b[0;31mMlflowException\u001b[0m: The configured tracking uri scheme: 'file' is invalid for use with the proxy mlflow-artifact scheme. The allowed tracking schemes are: {'http', 'https'}"
     ]
    }
   ],
   "source": [
    "def validation(epoch_iterator_val):\n",
    "    model.eval()\n",
    "    dice_vals = []\n",
    "\n",
    "    with torch.no_grad():\n",
    "        for _step, batch in enumerate(epoch_iterator_val):\n",
    "            val_inputs, val_labels = (\n",
    "                batch[\"image\"], batch[\"label\"])\n",
    "            val_outputs = sliding_window_inference(\n",
    "                val_inputs, (64, 64, 64), 4, model)\n",
    "            val_labels_list = decollate_batch(val_labels)\n",
    "            val_labels_convert = [post_label(\n",
    "                val_label_tensor) for val_label_tensor in val_labels_list]\n",
    "            val_outputs_list = decollate_batch(val_outputs)\n",
    "            val_output_convert = [post_pred(val_pred_tensor)\n",
    "                                  for val_pred_tensor in val_outputs_list]\n",
    "            dice_metric(y_pred=val_output_convert, y=val_labels_convert)\n",
    "            dice = dice_metric.aggregate().item()\n",
    "            dice_vals.append(dice)\n",
    "            epoch_iterator_val.set_description(\n",
    "                \"Validate (%d / %d Steps) (dice=%2.5f)\" % (global_step, 10.0, dice))\n",
    "\n",
    "        dice_metric.reset()\n",
    "\n",
    "    mean_dice_val = np.mean(dice_vals)\n",
    "    return mean_dice_val\n",
    "\n",
    "\n",
    "def train(global_step, train_loader, dice_val_best, global_step_best):\n",
    "    model.train()\n",
    "    epoch_loss = 0\n",
    "    step = 0\n",
    "    epoch_iterator = tqdm(\n",
    "        train_loader, desc=\"Training (X / X Steps) (loss=X.X)\", dynamic_ncols=True)\n",
    "    for step, batch in enumerate(epoch_iterator):\n",
    "        step += 1\n",
    "        x, y = (batch[\"image\"], batch[\"label\"])\n",
    "        logit_map = model(x)\n",
    "        loss = loss_function(logit_map, y)\n",
    "        loss.backward()\n",
    "        epoch_loss += loss.item()\n",
    "        optimizer.step()\n",
    "        optimizer.zero_grad()\n",
    "        epoch_iterator.set_description(\n",
    "            \"Training (%d / %d Steps) (loss=%2.5f)\" % (global_step, max_iterations, loss))\n",
    "\n",
    "        if (global_step % eval_num == 0 and global_step != 0) or global_step == max_iterations:\n",
    "            epoch_iterator_val = tqdm(\n",
    "                val_loader, desc=\"Validate (X / X Steps) (dice=X.X)\", dynamic_ncols=True)\n",
    "            dice_val = validation(epoch_iterator_val)\n",
    "\n",
    "            epoch_loss /= step\n",
    "            epoch_loss_values.append(epoch_loss)\n",
    "            metric_values.append(dice_val)\n",
    "            if dice_val > dice_val_best:\n",
    "                dice_val_best = dice_val\n",
    "                global_step_best = global_step\n",
    "                print(\n",
    "                    \"Model Was Saved ! Current Best Avg. Dice: {} Current Avg. Dice: {}\".format(\n",
    "                        dice_val_best, dice_val))\n",
    "                torch.save(model.state_dict(),\n",
    "                           os.path.join(logdir, experiment_name + \".pth\"))\n",
    "                print(\n",
    "                    \"Model Was Saved ! Current Best Avg. Dice: {} Current Avg. Dice: {}\".format(\n",
    "                        dice_val_best, dice_val)\n",
    "                )\n",
    "            else:\n",
    "                print(\n",
    "                    \"Model Was Not Saved ! Current Best Avg. Dice: {} Current Avg. Dice: {}\".format(\n",
    "                        dice_val_best, dice_val\n",
    "                    )\n",
    "                )\n",
    "\n",
    "            plt.figure(1, (12, 6))\n",
    "            plt.subplot(1, 2, 1)\n",
    "            plt.title(\"Iteration Average Loss\")\n",
    "            x = [eval_num * (i + 1) for i in range(len(epoch_loss_values))]\n",
    "            y = epoch_loss_values\n",
    "            plt.xlabel(\"Iteration\")\n",
    "            plt.plot(x, y)\n",
    "            plt.grid()\n",
    "            plt.subplot(1, 2, 2)\n",
    "            plt.title(\"Val Mean Dice\")\n",
    "            x = [eval_num * (i + 1) for i in range(len(metric_values))]\n",
    "            y = metric_values\n",
    "            plt.xlabel(\"Iteration\")\n",
    "            plt.plot(x, y)\n",
    "            plt.grid()\n",
    "            plt.savefig(os.path.join(\n",
    "                logdir, experiment_name + \".png\"))\n",
    "            plt.clf()\n",
    "            plt.close(1)\n",
    "\n",
    "        global_step += 1\n",
    "    return global_step, dice_val_best, global_step_best\n",
    "\n",
    "\n",
    "# Start MLflow run\n",
    "with mlflow.start_run() as run:\n",
    "    while global_step < max_iterations:\n",
    "        global_step, dice_val_best, global_step_best = train(\n",
    "            global_step, train_loader, dice_val_best, global_step_best)\n",
    "\n",
    "    # Load the best model state\n",
    "    model.load_state_dict(torch.load(\n",
    "        os.path.join(logdir, experiment_name + \".pth\")))\n",
    "\n",
    "    # Log final model to MLflow\n",
    "    mlflow.pytorch.log_model(model, f'models/{experiment_name}_final')\n",
    "\n",
    "    # Optionally log other information\n",
    "    mlflow.log_param('max_iterations', max_iterations)\n",
    "    mlflow.log_param('global_step_best', global_step_best)\n",
    "    mlflow.log_metric('dice_val_best', dice_val_best)\n",
    "\n",
    "print(\n",
    "    f\"train completed, best_metric: {dice_val_best:.4f} \" f\"at iteration: {global_step_best}\")\n"
   ]
  },
  {
   "cell_type": "code",
   "execution_count": null,
   "metadata": {},
   "outputs": [],
   "source": []
  },
  {
   "cell_type": "code",
   "execution_count": null,
   "metadata": {},
   "outputs": [],
   "source": []
  }
 ],
 "metadata": {
  "kernelspec": {
   "display_name": "SSLUnet",
   "language": "python",
   "name": "sslunet"
  },
  "language_info": {
   "codemirror_mode": {
    "name": "ipython",
    "version": 3
   },
   "file_extension": ".py",
   "mimetype": "text/x-python",
   "name": "python",
   "nbconvert_exporter": "python",
   "pygments_lexer": "ipython3",
   "version": "3.11.4"
  },
  "orig_nbformat": 4
 },
 "nbformat": 4,
 "nbformat_minor": 2
}
