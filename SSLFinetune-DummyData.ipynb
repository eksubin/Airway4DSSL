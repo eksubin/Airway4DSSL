{
 "cells": [
  {
   "cell_type": "code",
   "execution_count": 13,
   "metadata": {
    "tags": []
   },
   "outputs": [
    {
     "name": "stdout",
     "output_type": "stream",
     "text": [
      "MONAI version: 1.4.dev2414\n",
      "Numpy version: 1.26.4\n",
      "Pytorch version: 2.2.2+cu121\n",
      "MONAI flags: HAS_EXT = False, USE_COMPILED = False, USE_META_DICT = False\n",
      "MONAI rev id: 5b248f6a0dd29cb9c2a9545f980a88de16a6b753\n",
      "MONAI __file__: /home/<username>/virtenvs/SSLUnet/lib/python3.11/site-packages/monai/__init__.py\n",
      "\n",
      "Optional dependencies:\n",
      "Pytorch Ignite version: NOT INSTALLED or UNKNOWN VERSION.\n",
      "ITK version: NOT INSTALLED or UNKNOWN VERSION.\n",
      "Nibabel version: 5.2.1\n",
      "scikit-image version: 0.22.0\n",
      "scipy version: 1.13.0\n",
      "Pillow version: 10.3.0\n",
      "Tensorboard version: NOT INSTALLED or UNKNOWN VERSION.\n",
      "gdown version: NOT INSTALLED or UNKNOWN VERSION.\n",
      "TorchVision version: NOT INSTALLED or UNKNOWN VERSION.\n",
      "tqdm version: 4.66.2\n",
      "lmdb version: NOT INSTALLED or UNKNOWN VERSION.\n",
      "psutil version: 5.9.8\n",
      "pandas version: NOT INSTALLED or UNKNOWN VERSION.\n",
      "einops version: 0.7.0\n",
      "transformers version: NOT INSTALLED or UNKNOWN VERSION.\n",
      "mlflow version: NOT INSTALLED or UNKNOWN VERSION.\n",
      "pynrrd version: NOT INSTALLED or UNKNOWN VERSION.\n",
      "clearml version: NOT INSTALLED or UNKNOWN VERSION.\n",
      "\n",
      "For details about installing the optional dependencies, please visit:\n",
      "    https://docs.monai.io/en/latest/installation.html#installing-the-recommended-dependencies\n",
      "\n"
     ]
    }
   ],
   "source": [
    "#Load the libraries\n",
    "import os\n",
    "import torch\n",
    "import numpy as np\n",
    "from tqdm import tqdm\n",
    "import matplotlib.pyplot as plt\n",
    "\n",
    "from monai.losses import DiceCELoss\n",
    "from monai.inferers import sliding_window_inference\n",
    "from monai.config import print_config\n",
    "from monai.transforms import (\n",
    "    AsDiscrete,\n",
    "    Compose,\n",
    "    CropForegroundd,\n",
    "    EnsureChannelFirstd,\n",
    "    LoadImaged,\n",
    "    Orientationd,\n",
    "    RandFlipd,\n",
    "    RandCropByPosNegLabeld,\n",
    "    RandShiftIntensityd,\n",
    "    ScaleIntensityRanged,\n",
    "    Spacingd,\n",
    "    RandRotate90d,\n",
    "    ToTensord,\n",
    "    Resized\n",
    ")\n",
    "\n",
    "from monai.metrics import DiceMetric\n",
    "from monai.networks.nets import UNETR\n",
    "\n",
    "from monai.data import (\n",
    "    DataLoader,\n",
    "    CacheDataset,\n",
    "    load_decathlon_datalist,\n",
    "    decollate_batch,\n",
    ")\n",
    "\n",
    "print_config()\n"
   ]
  },
  {
   "cell_type": "markdown",
   "metadata": {},
   "source": [
    "### Setup the file input and output locations"
   ]
  },
  {
   "cell_type": "code",
   "execution_count": 14,
   "metadata": {
    "tags": []
   },
   "outputs": [],
   "source": [
    "logdir = os.path.normpath(\"./logs/fine/\")\n",
    "\n",
    "if os.path.exists(logdir) is False:\n",
    "    os.mkdir(logdir)"
   ]
  },
  {
   "cell_type": "code",
   "execution_count": 15,
   "metadata": {
    "tags": []
   },
   "outputs": [],
   "source": [
    "#Load the pre-trained model\n",
    "use_pretrained = True\n",
    "pretrained_path = os.path.normpath(\"./logs/best_model_32.pt\")"
   ]
  },
  {
   "cell_type": "code",
   "execution_count": 16,
   "metadata": {
    "tags": []
   },
   "outputs": [
    {
     "name": "stdout",
     "output_type": "stream",
     "text": [
      "[{'image': './Synth3DVal/im0.nii.gz', 'label': './Synth3DVal/seg0.nii.gz'}, {'image': './Synth3DVal/im1.nii.gz', 'label': './Synth3DVal/seg1.nii.gz'}, {'image': './Synth3DVal/im2.nii.gz', 'label': './Synth3DVal/seg2.nii.gz'}, {'image': './Synth3DVal/im3.nii.gz', 'label': './Synth3DVal/seg3.nii.gz'}, {'image': './Synth3DVal/im4.nii.gz', 'label': './Synth3DVal/seg4.nii.gz'}, {'image': './Synth3DVal/im5.nii.gz', 'label': './Synth3DVal/seg5.nii.gz'}, {'image': './Synth3DVal/im6.nii.gz', 'label': './Synth3DVal/seg6.nii.gz'}, {'image': './Synth3DVal/im7.nii.gz', 'label': './Synth3DVal/seg7.nii.gz'}, {'image': './Synth3DVal/im8.nii.gz', 'label': './Synth3DVal/seg8.nii.gz'}, {'image': './Synth3DVal/im9.nii.gz', 'label': './Synth3DVal/seg9.nii.gz'}] [{'image': './Synth3DVal/im0.nii.gz', 'label': './Synth3DVal/seg0.nii.gz'}, {'image': './Synth3DVal/im1.nii.gz', 'label': './Synth3DVal/seg1.nii.gz'}, {'image': './Synth3DVal/im2.nii.gz', 'label': './Synth3DVal/seg2.nii.gz'}, {'image': './Synth3DVal/im3.nii.gz', 'label': './Synth3DVal/seg3.nii.gz'}, {'image': './Synth3DVal/im4.nii.gz', 'label': './Synth3DVal/seg4.nii.gz'}, {'image': './Synth3DVal/im5.nii.gz', 'label': './Synth3DVal/seg5.nii.gz'}, {'image': './Synth3DVal/im6.nii.gz', 'label': './Synth3DVal/seg6.nii.gz'}, {'image': './Synth3DVal/im7.nii.gz', 'label': './Synth3DVal/seg7.nii.gz'}, {'image': './Synth3DVal/im8.nii.gz', 'label': './Synth3DVal/seg8.nii.gz'}, {'image': './Synth3DVal/im9.nii.gz', 'label': './Synth3DVal/seg9.nii.gz'}]\n"
     ]
    }
   ],
   "source": [
    "#Convert the train and validation images into a list with locations\n",
    "\n",
    "train_dir = \"./Synth3D\"\n",
    "val_dir = \"./Synth3DVal\"\n",
    "\n",
    "#train image file\n",
    "timage_filenames = sorted([os.path.join(train_dir, f) for f in os.listdir(train_dir) if f.startswith(\"im\")])\n",
    "tlabel_filenames = sorted([os.path.join(train_dir, f) for f in os.listdir(train_dir) if f.startswith(\"seg\")])\n",
    "\n",
    "#validation image files\n",
    "vimage_filenames = sorted([os.path.join(val_dir, f) for f in os.listdir(val_dir) if f.startswith(\"im\")])\n",
    "vlabel_filenames = sorted([os.path.join(val_dir, f) for f in os.listdir(val_dir) if f.startswith(\"seg\")])\n",
    "\n",
    "# Create a list of dictionaries containing the file paths\n",
    "train_datalist = [{\"image\": img, \"label\": lbl} for img, lbl in zip(vimage_filenames, vlabel_filenames)]\n",
    "validation_datalist = [{\"image\": img, \"label\": lbl} for img, lbl in zip(vimage_filenames, vlabel_filenames)]\n",
    "\n",
    "# Print the datalist to verify\n",
    "print(train_datalist, validation_datalist)"
   ]
  },
  {
   "cell_type": "markdown",
   "metadata": {},
   "source": [
    "### Train and validation transforms"
   ]
  },
  {
   "cell_type": "code",
   "execution_count": 18,
   "metadata": {
    "tags": []
   },
   "outputs": [],
   "source": [
    "# Training Hyper-params\n",
    "lr = 1e-4\n",
    "max_iterations = 50\n",
    "eval_num = 10\n",
    "\n",
    "# Transforms\n",
    "train_transforms = Compose(\n",
    "    [\n",
    "        LoadImaged(keys=[\"image\", \"label\"]),\n",
    "        EnsureChannelFirstd(keys=[\"image\", \"label\"]),\n",
    "        Orientationd(keys=[\"image\", \"label\"], axcodes=\"RAS\"),\n",
    "        # Spacingd(\n",
    "        #     keys=[\"image\", \"label\"],\n",
    "        #     pixdim=(1.5, 1.5, 4.0),\n",
    "        #     mode=(\"bilinear\", \"nearest\"),\n",
    "        # ),\n",
    "        ScaleIntensityRanged(\n",
    "            keys=[\"image\"],\n",
    "            a_min=-175,\n",
    "            a_max=250,\n",
    "            b_min=0.0,\n",
    "            b_max=1.0,\n",
    "            clip=True,\n",
    "        ),\n",
    "        CropForegroundd(keys=[\"image\", \"label\"], source_key=\"image\"),\n",
    "        RandCropByPosNegLabeld(\n",
    "            keys=[\"image\", \"label\"],\n",
    "            label_key=\"label\",\n",
    "            spatial_size=(32, 32, 32),\n",
    "            pos=1,\n",
    "            neg=1,\n",
    "            num_samples=4,\n",
    "            image_key=\"image\",\n",
    "            image_threshold=0,),\n",
    "        # ),\n",
    "        # RandFlipd(\n",
    "        #     keys=[\"image\", \"label\"],\n",
    "        #     spatial_axis=[0],\n",
    "        #     prob=0.10,\n",
    "        # ),\n",
    "        # RandFlipd(\n",
    "        #     keys=[\"image\", \"label\"],\n",
    "        #     spatial_axis=[1],\n",
    "        #     prob=0.10,\n",
    "        # ),\n",
    "        # RandFlipd(\n",
    "        #     keys=[\"image\", \"label\"],\n",
    "        #     spatial_axis=[2],\n",
    "        #     prob=0.10,\n",
    "        # ),\n",
    "        # RandRotate90d(\n",
    "        #     keys=[\"image\", \"label\"],\n",
    "        #     prob=0.10,\n",
    "        #     max_k=3,\n",
    "        # ),\n",
    "        # RandShiftIntensityd(\n",
    "        #     keys=[\"image\"],\n",
    "        #     offsets=0.10,\n",
    "        #     prob=0.50,\n",
    "        # ),\n",
    "        ToTensord(keys=[\"image\", \"label\"]),\n",
    "    ]\n",
    ")\n",
    "\n",
    "# Validation transforms\n",
    "val_transforms = Compose(\n",
    "    [\n",
    "        LoadImaged(keys=[\"image\", \"label\"]),\n",
    "        EnsureChannelFirstd(keys=[\"image\", \"label\"]),\n",
    "        Orientationd(keys=[\"image\", \"label\"], axcodes=\"RAS\"),\n",
    "        Spacingd(\n",
    "            keys=[\"image\", \"label\"],\n",
    "            pixdim=(1.5, 1.5, 2.0),\n",
    "            mode=(\"bilinear\", \"nearest\"),\n",
    "        ),\n",
    "        ScaleIntensityRanged(keys=[\"image\"], a_min=-175,\n",
    "                             a_max=250, b_min=0.0, b_max=1.0, clip=True),\n",
    "        CropForegroundd(keys=[\"image\", \"label\"], source_key=\"image\"),\n",
    "        ToTensord(keys=[\"image\", \"label\"]),\n",
    "    ]\n",
    ")\n"
   ]
  },
  {
   "cell_type": "markdown",
   "metadata": {},
   "source": [
    "### Dataloaders for train and validation"
   ]
  },
  {
   "cell_type": "code",
   "execution_count": 19,
   "metadata": {
    "tags": []
   },
   "outputs": [
    {
     "name": "stderr",
     "output_type": "stream",
     "text": [
      "Loading dataset: 100%|██████████| 10/10 [00:00<00:00, 61.89it/s]\n",
      "Loading dataset: 100%|██████████| 6/6 [00:00<00:00, 39.55it/s]\n"
     ]
    }
   ],
   "source": [
    "\n",
    "train_ds = CacheDataset(\n",
    "    data=train_datalist,\n",
    "    transform=train_transforms,\n",
    "    cache_num=24,\n",
    "    cache_rate=1.0,\n",
    "    num_workers=2,\n",
    ")\n",
    "train_loader = DataLoader(train_ds, batch_size=1,\n",
    "                          shuffle=True, num_workers=4, pin_memory=True)\n",
    "val_ds = CacheDataset(data=validation_datalist, transform=val_transforms,\n",
    "                      cache_num=6, cache_rate=1.0, num_workers=4)\n",
    "val_loader = DataLoader(val_ds, batch_size=1,\n",
    "                        shuffle=False, num_workers=4, pin_memory=True)\n"
   ]
  },
  {
   "cell_type": "code",
   "execution_count": 118,
   "metadata": {
    "tags": []
   },
   "outputs": [
    {
     "name": "stdout",
     "output_type": "stream",
     "text": [
      "image shape: torch.Size([1, 43, 43, 32]), label shape: torch.Size([1, 43, 43, 32])\n",
      "image shape: torch.Size([1, 43, 43, 32]), label shape: torch.Size([1, 43, 43, 32])\n",
      "image shape: torch.Size([1, 43, 43, 32]), label shape: torch.Size([1, 43, 43, 32])\n",
      "image shape: torch.Size([1, 43, 43, 32]), label shape: torch.Size([1, 43, 43, 32])\n",
      "image shape: torch.Size([1, 43, 43, 32]), label shape: torch.Size([1, 43, 43, 32])\n",
      "image shape: torch.Size([1, 43, 43, 32]), label shape: torch.Size([1, 43, 43, 32])\n",
      "image shape: torch.Size([1, 43, 43, 32]), label shape: torch.Size([1, 43, 43, 32])\n",
      "image shape: torch.Size([1, 43, 43, 32]), label shape: torch.Size([1, 43, 43, 32])\n",
      "image shape: torch.Size([1, 43, 43, 32]), label shape: torch.Size([1, 43, 43, 32])\n",
      "image shape: torch.Size([1, 43, 43, 32]), label shape: torch.Size([1, 43, 43, 32])\n"
     ]
    }
   ],
   "source": [
    "# just conforming the image sizes for the data inside the folder\n",
    "\n",
    "for case_num in range(len(val_ds)):\n",
    "    img = val_ds[case_num][\"image\"]\n",
    "    label = val_ds[case_num][\"label\"]\n",
    "    img_shape = img.shape\n",
    "    label_shape = label.shape\n",
    "    print(f\"image shape: {img_shape}, label shape: {label_shape}\")"
   ]
  },
  {
   "cell_type": "markdown",
   "metadata": {},
   "source": [
    "### Network"
   ]
  },
  {
   "cell_type": "code",
   "execution_count": 20,
   "metadata": {
    "tags": []
   },
   "outputs": [
    {
     "name": "stdout",
     "output_type": "stream",
     "text": [
      "Loading Weights from the Path logs/best_model_32.pt\n",
      "Pretrained Weights Succesfully Loaded !\n"
     ]
    }
   ],
   "source": [
    "device = torch.device(\"cpu\") # current GPU cannot handle this\n",
    "\n",
    "model = UNETR(\n",
    "    in_channels=1,\n",
    "    out_channels=14,\n",
    "    img_size=(32, 32, 32),\n",
    "    feature_size=16,\n",
    "    hidden_size=768,\n",
    "    mlp_dim=3072,\n",
    "    num_heads=12,\n",
    "    pos_embed=\"conv\",\n",
    "    norm_name=\"instance\",\n",
    "    res_block=True,\n",
    "    dropout_rate=0.0,\n",
    ")\n",
    "\n",
    "# Load ViT backbone weights into UNETR\n",
    "if use_pretrained is True:\n",
    "    print(\"Loading Weights from the Path {}\".format(pretrained_path))\n",
    "    vit_dict = torch.load(pretrained_path)\n",
    "    vit_weights = vit_dict[\"state_dict\"]\n",
    "    model_dict = model.vit.state_dict()\n",
    "\n",
    "    vit_weights = {k: v for k, v in vit_weights.items() if k in model_dict}\n",
    "    model_dict.update(vit_weights)\n",
    "    model.vit.load_state_dict(model_dict)\n",
    "    del model_dict, vit_weights, vit_dict\n",
    "    print(\"Pretrained Weights Succesfully Loaded !\")\n",
    "\n",
    "elif use_pretrained is False:\n",
    "    print(\"No weights were loaded, all weights being used are randomly initialized!\")\n",
    "\n",
    "model.to(device)\n",
    "\n",
    "loss_function = DiceCELoss(to_onehot_y=True, softmax=True)\n",
    "torch.backends.cudnn.benchmark = True\n",
    "optimizer = torch.optim.AdamW(model.parameters(), lr=lr, weight_decay=1e-5)\n",
    "\n",
    "post_label = AsDiscrete(to_onehot=14)\n",
    "post_pred = AsDiscrete(argmax=True, to_onehot=14)\n",
    "dice_metric = DiceMetric(include_background=True,\n",
    "                         reduction=\"mean\", get_not_nans=False)\n",
    "global_step = 0\n",
    "dice_val_best = 0.0\n",
    "global_step_best = 0\n",
    "epoch_loss_values = []\n",
    "metric_values = []\n"
   ]
  },
  {
   "cell_type": "markdown",
   "metadata": {
    "tags": []
   },
   "source": [
    "### Train and validation "
   ]
  },
  {
   "cell_type": "code",
   "execution_count": 122,
   "metadata": {
    "tags": []
   },
   "outputs": [
    {
     "name": "stderr",
     "output_type": "stream",
     "text": [
      "Training (9 / 50 Steps) (loss=3.61612): 100%|██████████| 10/10 [00:10<00:00,  1.03s/it]\n",
      "Training (10 / 50 Steps) (loss=3.59708):   0%|          | 0/10 [00:05<?, ?it/s]\n",
      "Validate (X / X Steps) (dice=X.X):   0%|          | 0/10 [00:00<?, ?it/s]\u001b[A\n",
      "Validate (10 / 10 Steps) (dice=0.07279):   0%|          | 0/10 [00:01<?, ?it/s]\u001b[A\n",
      "Validate (10 / 10 Steps) (dice=0.07279):  10%|█         | 1/10 [00:01<00:09,  1.01s/it]\u001b[A\n",
      "Validate (10 / 10 Steps) (dice=0.07169):  10%|█         | 1/10 [00:01<00:09,  1.01s/it]\u001b[A\n",
      "Validate (10 / 10 Steps) (dice=0.07169):  20%|██        | 2/10 [00:01<00:04,  1.84it/s]\u001b[A\n",
      "Validate (10 / 10 Steps) (dice=0.07425):  20%|██        | 2/10 [00:01<00:04,  1.84it/s]\u001b[A\n",
      "Validate (10 / 10 Steps) (dice=0.07425):  30%|███       | 3/10 [00:01<00:02,  2.63it/s]\u001b[A\n",
      "Validate (10 / 10 Steps) (dice=0.07504):  30%|███       | 3/10 [00:01<00:02,  2.63it/s]\u001b[A\n",
      "Validate (10 / 10 Steps) (dice=0.07504):  40%|████      | 4/10 [00:01<00:01,  3.34it/s]\u001b[A\n",
      "Validate (10 / 10 Steps) (dice=0.07385):  40%|████      | 4/10 [00:01<00:01,  3.34it/s]\u001b[A\n",
      "Validate (10 / 10 Steps) (dice=0.07385):  50%|█████     | 5/10 [00:01<00:01,  4.24it/s]\u001b[A\n",
      "Validate (10 / 10 Steps) (dice=0.07450):  50%|█████     | 5/10 [00:01<00:01,  4.24it/s]\u001b[A\n",
      "Validate (10 / 10 Steps) (dice=0.07450):  60%|██████    | 6/10 [00:01<00:00,  4.70it/s]\u001b[A\n",
      "Validate (10 / 10 Steps) (dice=0.07412):  60%|██████    | 6/10 [00:01<00:00,  4.70it/s]\u001b[A\n",
      "Validate (10 / 10 Steps) (dice=0.07412):  70%|███████   | 7/10 [00:01<00:00,  5.49it/s]\u001b[A\n",
      "Validate (10 / 10 Steps) (dice=0.07189):  70%|███████   | 7/10 [00:02<00:00,  5.49it/s]\u001b[A\n",
      "Validate (10 / 10 Steps) (dice=0.07189):  80%|████████  | 8/10 [00:02<00:00,  6.17it/s]\u001b[A\n",
      "Validate (10 / 10 Steps) (dice=0.07153):  80%|████████  | 8/10 [00:02<00:00,  6.17it/s]\u001b[A\n",
      "Validate (10 / 10 Steps) (dice=0.07153):  90%|█████████ | 9/10 [00:02<00:00,  6.07it/s]\u001b[A\n",
      "Validate (10 / 10 Steps) (dice=0.07159):  90%|█████████ | 9/10 [00:02<00:00,  6.07it/s]\u001b[A\n",
      "Validate (10 / 10 Steps) (dice=0.07159): 100%|██████████| 10/10 [00:02<00:00,  3.78it/s]\u001b[A\n"
     ]
    },
    {
     "name": "stdout",
     "output_type": "stream",
     "text": [
      "Model Was Saved ! Current Best Avg. Dice: 0.07312348634004592 Current Avg. Dice: 0.07312348634004592\n"
     ]
    },
    {
     "name": "stderr",
     "output_type": "stream",
     "text": [
      "Training (19 / 50 Steps) (loss=3.48405): 100%|██████████| 10/10 [00:13<00:00,  1.38s/it]\n",
      "Training (20 / 50 Steps) (loss=3.43219):   0%|          | 0/10 [00:04<?, ?it/s]\n",
      "Validate (X / X Steps) (dice=X.X):   0%|          | 0/10 [00:00<?, ?it/s]\u001b[A\n",
      "Validate (20 / 10 Steps) (dice=0.23837):   0%|          | 0/10 [00:00<?, ?it/s]\u001b[A\n",
      "Validate (20 / 10 Steps) (dice=0.23837):  10%|█         | 1/10 [00:00<00:08,  1.02it/s]\u001b[A\n",
      "Validate (20 / 10 Steps) (dice=0.24275):  10%|█         | 1/10 [00:01<00:08,  1.02it/s]\u001b[A\n",
      "Validate (20 / 10 Steps) (dice=0.24275):  20%|██        | 2/10 [00:01<00:04,  1.75it/s]\u001b[A\n",
      "Validate (20 / 10 Steps) (dice=0.24249):  20%|██        | 2/10 [00:01<00:04,  1.75it/s]\u001b[A\n",
      "Validate (20 / 10 Steps) (dice=0.24249):  30%|███       | 3/10 [00:01<00:02,  2.46it/s]\u001b[A\n",
      "Validate (20 / 10 Steps) (dice=0.24354):  30%|███       | 3/10 [00:01<00:02,  2.46it/s]\u001b[A\n",
      "Validate (20 / 10 Steps) (dice=0.24354):  40%|████      | 4/10 [00:01<00:01,  3.09it/s]\u001b[A\n",
      "Validate (20 / 10 Steps) (dice=0.24225):  40%|████      | 4/10 [00:01<00:01,  3.09it/s]\u001b[A\n",
      "Validate (20 / 10 Steps) (dice=0.24225):  50%|█████     | 5/10 [00:01<00:01,  3.97it/s]\u001b[A\n",
      "Validate (20 / 10 Steps) (dice=0.24177):  50%|█████     | 5/10 [00:01<00:01,  3.97it/s]\u001b[A\n",
      "Validate (20 / 10 Steps) (dice=0.24177):  60%|██████    | 6/10 [00:01<00:00,  4.40it/s]\u001b[A\n",
      "Validate (20 / 10 Steps) (dice=0.24243):  60%|██████    | 6/10 [00:02<00:00,  4.40it/s]\u001b[A\n",
      "Validate (20 / 10 Steps) (dice=0.24243):  70%|███████   | 7/10 [00:02<00:00,  5.16it/s]\u001b[A\n",
      "Validate (20 / 10 Steps) (dice=0.23937):  70%|███████   | 7/10 [00:02<00:00,  5.16it/s]\u001b[A\n",
      "Validate (20 / 10 Steps) (dice=0.23937):  80%|████████  | 8/10 [00:02<00:00,  5.31it/s]\u001b[A\n",
      "Validate (20 / 10 Steps) (dice=0.23984):  80%|████████  | 8/10 [00:02<00:00,  5.31it/s]\u001b[A\n",
      "Validate (20 / 10 Steps) (dice=0.23984):  90%|█████████ | 9/10 [00:02<00:00,  5.92it/s]\u001b[A\n",
      "Validate (20 / 10 Steps) (dice=0.23913):  90%|█████████ | 9/10 [00:02<00:00,  5.92it/s]\u001b[A\n",
      "Validate (20 / 10 Steps) (dice=0.23913): 100%|██████████| 10/10 [00:02<00:00,  3.61it/s]\u001b[A\n",
      "Training (20 / 50 Steps) (loss=3.43219):  10%|█         | 1/10 [00:09<01:22,  9.12s/it]"
     ]
    },
    {
     "name": "stdout",
     "output_type": "stream",
     "text": [
      "Model Was Saved ! Current Best Avg. Dice: 0.24119106233119963 Current Avg. Dice: 0.24119106233119963\n"
     ]
    },
    {
     "name": "stderr",
     "output_type": "stream",
     "text": [
      "Training (29 / 50 Steps) (loss=3.34659): 100%|██████████| 10/10 [00:14<00:00,  1.40s/it]\n",
      "Training (30 / 50 Steps) (loss=3.32284):   0%|          | 0/10 [00:04<?, ?it/s]\n",
      "Validate (X / X Steps) (dice=X.X):   0%|          | 0/10 [00:00<?, ?it/s]\u001b[A\n",
      "Validate (30 / 10 Steps) (dice=0.42039):   0%|          | 0/10 [00:01<?, ?it/s]\u001b[A\n",
      "Validate (30 / 10 Steps) (dice=0.42039):  10%|█         | 1/10 [00:01<00:09,  1.07s/it]\u001b[A\n",
      "Validate (30 / 10 Steps) (dice=0.43134):  10%|█         | 1/10 [00:01<00:09,  1.07s/it]\u001b[A\n",
      "Validate (30 / 10 Steps) (dice=0.43134):  20%|██        | 2/10 [00:01<00:04,  1.74it/s]\u001b[A\n",
      "Validate (30 / 10 Steps) (dice=0.42768):  20%|██        | 2/10 [00:01<00:04,  1.74it/s]\u001b[A\n",
      "Validate (30 / 10 Steps) (dice=0.42768):  30%|███       | 3/10 [00:01<00:02,  2.48it/s]\u001b[A\n",
      "Validate (30 / 10 Steps) (dice=0.43007):  30%|███       | 3/10 [00:01<00:02,  2.48it/s]\u001b[A\n",
      "Validate (30 / 10 Steps) (dice=0.43007):  40%|████      | 4/10 [00:01<00:01,  3.15it/s]\u001b[A\n",
      "Validate (30 / 10 Steps) (dice=0.42984):  40%|████      | 4/10 [00:01<00:01,  3.15it/s]\u001b[A\n",
      "Validate (30 / 10 Steps) (dice=0.42984):  50%|█████     | 5/10 [00:01<00:01,  4.06it/s]\u001b[A\n",
      "Validate (30 / 10 Steps) (dice=0.42781):  50%|█████     | 5/10 [00:01<00:01,  4.06it/s]\u001b[A\n",
      "Validate (30 / 10 Steps) (dice=0.42781):  60%|██████    | 6/10 [00:01<00:00,  4.50it/s]\u001b[A\n",
      "Validate (30 / 10 Steps) (dice=0.42952):  60%|██████    | 6/10 [00:02<00:00,  4.50it/s]\u001b[A\n",
      "Validate (30 / 10 Steps) (dice=0.42952):  70%|███████   | 7/10 [00:02<00:00,  5.26it/s]\u001b[A\n",
      "Validate (30 / 10 Steps) (dice=0.42767):  70%|███████   | 7/10 [00:02<00:00,  5.26it/s]\u001b[A\n",
      "Validate (30 / 10 Steps) (dice=0.42767):  80%|████████  | 8/10 [00:02<00:00,  5.35it/s]\u001b[A\n",
      "Validate (30 / 10 Steps) (dice=0.42889):  80%|████████  | 8/10 [00:02<00:00,  5.35it/s]\u001b[A\n",
      "Validate (30 / 10 Steps) (dice=0.42889):  90%|█████████ | 9/10 [00:02<00:00,  6.08it/s]\u001b[A\n",
      "Validate (30 / 10 Steps) (dice=0.42615):  90%|█████████ | 9/10 [00:02<00:00,  6.08it/s]\u001b[A\n",
      "Validate (30 / 10 Steps) (dice=0.42615): 100%|██████████| 10/10 [00:02<00:00,  3.55it/s]\u001b[A\n",
      "Training (30 / 50 Steps) (loss=3.32284):  10%|█         | 1/10 [00:09<01:22,  9.17s/it]"
     ]
    },
    {
     "name": "stdout",
     "output_type": "stream",
     "text": [
      "Model Was Saved ! Current Best Avg. Dice: 0.42793580889701843 Current Avg. Dice: 0.42793580889701843\n"
     ]
    },
    {
     "name": "stderr",
     "output_type": "stream",
     "text": [
      "Training (39 / 50 Steps) (loss=3.14329): 100%|██████████| 10/10 [00:13<00:00,  1.37s/it]\n",
      "Training (40 / 50 Steps) (loss=3.16704):   0%|          | 0/10 [00:05<?, ?it/s]\n",
      "Validate (X / X Steps) (dice=X.X):   0%|          | 0/10 [00:00<?, ?it/s]\u001b[A\n",
      "Validate (40 / 10 Steps) (dice=0.57158):   0%|          | 0/10 [00:01<?, ?it/s]\u001b[A\n",
      "Validate (40 / 10 Steps) (dice=0.57158):  10%|█         | 1/10 [00:01<00:10,  1.12s/it]\u001b[A\n",
      "Validate (40 / 10 Steps) (dice=0.58305):  10%|█         | 1/10 [00:01<00:10,  1.12s/it]\u001b[A\n",
      "Validate (40 / 10 Steps) (dice=0.58305):  20%|██        | 2/10 [00:01<00:05,  1.56it/s]\u001b[A\n",
      "Validate (40 / 10 Steps) (dice=0.58181):  20%|██        | 2/10 [00:01<00:05,  1.56it/s]\u001b[A\n",
      "Validate (40 / 10 Steps) (dice=0.58181):  30%|███       | 3/10 [00:01<00:03,  2.30it/s]\u001b[A\n",
      "Validate (40 / 10 Steps) (dice=0.58490):  30%|███       | 3/10 [00:01<00:03,  2.30it/s]\u001b[A\n",
      "Validate (40 / 10 Steps) (dice=0.58490):  40%|████      | 4/10 [00:01<00:02,  2.98it/s]\u001b[A\n",
      "Validate (40 / 10 Steps) (dice=0.58455):  40%|████      | 4/10 [00:01<00:02,  2.98it/s]\u001b[A\n",
      "Validate (40 / 10 Steps) (dice=0.58455):  50%|█████     | 5/10 [00:01<00:01,  3.54it/s]\u001b[A\n",
      "Validate (40 / 10 Steps) (dice=0.58236):  50%|█████     | 5/10 [00:02<00:01,  3.54it/s]\u001b[A\n",
      "Validate (40 / 10 Steps) (dice=0.58236):  60%|██████    | 6/10 [00:02<00:00,  4.38it/s]\u001b[A\n",
      "Validate (40 / 10 Steps) (dice=0.58347):  60%|██████    | 6/10 [00:02<00:00,  4.38it/s]\u001b[A\n",
      "Validate (40 / 10 Steps) (dice=0.58347):  70%|███████   | 7/10 [00:02<00:00,  4.69it/s]\u001b[A\n",
      "Validate (40 / 10 Steps) (dice=0.58092):  70%|███████   | 7/10 [00:02<00:00,  4.69it/s]\u001b[A\n",
      "Validate (40 / 10 Steps) (dice=0.58092):  80%|████████  | 8/10 [00:02<00:00,  5.46it/s]\u001b[A\n",
      "Validate (40 / 10 Steps) (dice=0.58176):  80%|████████  | 8/10 [00:02<00:00,  5.46it/s]\u001b[A\n",
      "Validate (40 / 10 Steps) (dice=0.58176):  90%|█████████ | 9/10 [00:02<00:00,  5.53it/s]\u001b[A\n",
      "Validate (40 / 10 Steps) (dice=0.58016):  90%|█████████ | 9/10 [00:02<00:00,  5.53it/s]\u001b[A\n",
      "Validate (40 / 10 Steps) (dice=0.58016): 100%|██████████| 10/10 [00:02<00:00,  3.34it/s]\u001b[A\n",
      "Training (40 / 50 Steps) (loss=3.16704):  10%|█         | 1/10 [00:09<01:26,  9.63s/it]"
     ]
    },
    {
     "name": "stdout",
     "output_type": "stream",
     "text": [
      "Model Was Saved ! Current Best Avg. Dice: 0.5814559459686279 Current Avg. Dice: 0.5814559459686279\n"
     ]
    },
    {
     "name": "stderr",
     "output_type": "stream",
     "text": [
      "Training (49 / 50 Steps) (loss=3.01787): 100%|██████████| 10/10 [00:14<00:00,  1.43s/it]\n"
     ]
    },
    {
     "name": "stdout",
     "output_type": "stream",
     "text": [
      "train completed, best_metric: 0.5815 at iteration: 40\n"
     ]
    }
   ],
   "source": [
    "def validation(epoch_iterator_val):\n",
    "    model.eval()\n",
    "    dice_vals = []\n",
    "\n",
    "    with torch.no_grad():\n",
    "        for _step, batch in enumerate(epoch_iterator_val):\n",
    "            val_inputs, val_labels = (\n",
    "                batch[\"image\"], batch[\"label\"])\n",
    "            val_outputs = sliding_window_inference(\n",
    "                val_inputs, (32, 32, 32), 4, model)\n",
    "            val_labels_list = decollate_batch(val_labels)\n",
    "            val_labels_convert = [post_label(\n",
    "                val_label_tensor) for val_label_tensor in val_labels_list]\n",
    "            val_outputs_list = decollate_batch(val_outputs)\n",
    "            val_output_convert = [post_pred(val_pred_tensor)\n",
    "                                  for val_pred_tensor in val_outputs_list]\n",
    "            dice_metric(y_pred=val_output_convert, y=val_labels_convert)\n",
    "            dice = dice_metric.aggregate().item()\n",
    "            dice_vals.append(dice)\n",
    "            epoch_iterator_val.set_description(\n",
    "                \"Validate (%d / %d Steps) (dice=%2.5f)\" % (global_step, 10.0, dice))\n",
    "\n",
    "        dice_metric.reset()\n",
    "\n",
    "    mean_dice_val = np.mean(dice_vals)\n",
    "    return mean_dice_val\n",
    "\n",
    "\n",
    "def train(global_step, train_loader, dice_val_best, global_step_best):\n",
    "    model.train()\n",
    "    epoch_loss = 0\n",
    "    step = 0\n",
    "    epoch_iterator = tqdm(\n",
    "        train_loader, desc=\"Training (X / X Steps) (loss=X.X)\", dynamic_ncols=True)\n",
    "    for step, batch in enumerate(epoch_iterator):\n",
    "        step += 1\n",
    "        x, y = (batch[\"image\"], batch[\"label\"])\n",
    "        logit_map = model(x)\n",
    "        loss = loss_function(logit_map, y)\n",
    "        loss.backward()\n",
    "        epoch_loss += loss.item()\n",
    "        optimizer.step()\n",
    "        optimizer.zero_grad()\n",
    "        epoch_iterator.set_description(\n",
    "            \"Training (%d / %d Steps) (loss=%2.5f)\" % (global_step, max_iterations, loss))\n",
    "\n",
    "        if (global_step % eval_num == 0 and global_step != 0) or global_step == max_iterations:\n",
    "            epoch_iterator_val = tqdm(\n",
    "                val_loader, desc=\"Validate (X / X Steps) (dice=X.X)\", dynamic_ncols=True)\n",
    "            dice_val = validation(epoch_iterator_val)\n",
    "\n",
    "            epoch_loss /= step\n",
    "            epoch_loss_values.append(epoch_loss)\n",
    "            metric_values.append(dice_val)\n",
    "            if dice_val > dice_val_best:\n",
    "                dice_val_best = dice_val\n",
    "                global_step_best = global_step\n",
    "                torch.save(model.state_dict(), os.path.join(\n",
    "                    logdir, \"best_metric_model.pth\"))\n",
    "                print(\n",
    "                    \"Model Was Saved ! Current Best Avg. Dice: {} Current Avg. Dice: {}\".format(\n",
    "                        dice_val_best, dice_val)\n",
    "                )\n",
    "            else:\n",
    "                print(\n",
    "                    \"Model Was Not Saved ! Current Best Avg. Dice: {} Current Avg. Dice: {}\".format(\n",
    "                        dice_val_best, dice_val\n",
    "                    )\n",
    "                )\n",
    "\n",
    "            plt.figure(1, (12, 6))\n",
    "            plt.subplot(1, 2, 1)\n",
    "            plt.title(\"Iteration Average Loss\")\n",
    "            x = [eval_num * (i + 1) for i in range(len(epoch_loss_values))]\n",
    "            y = epoch_loss_values\n",
    "            plt.xlabel(\"Iteration\")\n",
    "            plt.plot(x, y)\n",
    "            plt.grid()\n",
    "            plt.subplot(1, 2, 2)\n",
    "            plt.title(\"Val Mean Dice\")\n",
    "            x = [eval_num * (i + 1) for i in range(len(metric_values))]\n",
    "            y = metric_values\n",
    "            plt.xlabel(\"Iteration\")\n",
    "            plt.plot(x, y)\n",
    "            plt.grid()\n",
    "            plt.savefig(os.path.join(logdir, \"btcv_finetune_quick_update.png\"))\n",
    "            plt.clf()\n",
    "            plt.close(1)\n",
    "\n",
    "        global_step += 1\n",
    "    return global_step, dice_val_best, global_step_best\n",
    "\n",
    "\n",
    "while global_step < max_iterations:\n",
    "    global_step, dice_val_best, global_step_best = train(\n",
    "        global_step, train_loader, dice_val_best, global_step_best)\n",
    "model.load_state_dict(torch.load(\n",
    "    os.path.join(logdir, \"best_metric_model.pth\")))\n",
    "\n",
    "print(\n",
    "    f\"train completed, best_metric: {dice_val_best:.4f} \" f\"at iteration: {global_step_best}\")\n"
   ]
  },
  {
   "cell_type": "code",
   "execution_count": 4,
   "metadata": {
    "tags": []
   },
   "outputs": [
    {
     "name": "stdout",
     "output_type": "stream",
     "text": [
      "MONAI version: 1.4.dev2414\n",
      "Numpy version: 1.26.4\n",
      "Pytorch version: 2.2.2+cu121\n",
      "MONAI flags: HAS_EXT = False, USE_COMPILED = False, USE_META_DICT = False\n",
      "MONAI rev id: 5b248f6a0dd29cb9c2a9545f980a88de16a6b753\n",
      "MONAI __file__: /home/<username>/virtenvs/SSLUnet/lib/python3.11/site-packages/monai/__init__.py\n",
      "\n",
      "Optional dependencies:\n",
      "Pytorch Ignite version: NOT INSTALLED or UNKNOWN VERSION.\n",
      "ITK version: NOT INSTALLED or UNKNOWN VERSION.\n",
      "Nibabel version: 5.2.1\n",
      "scikit-image version: 0.22.0\n",
      "scipy version: 1.13.0\n",
      "Pillow version: 10.3.0\n",
      "Tensorboard version: NOT INSTALLED or UNKNOWN VERSION.\n",
      "gdown version: NOT INSTALLED or UNKNOWN VERSION.\n",
      "TorchVision version: NOT INSTALLED or UNKNOWN VERSION.\n",
      "tqdm version: 4.66.2\n",
      "lmdb version: NOT INSTALLED or UNKNOWN VERSION.\n",
      "psutil version: 5.9.8\n",
      "pandas version: NOT INSTALLED or UNKNOWN VERSION.\n",
      "einops version: 0.7.0\n",
      "transformers version: NOT INSTALLED or UNKNOWN VERSION.\n",
      "mlflow version: NOT INSTALLED or UNKNOWN VERSION.\n",
      "pynrrd version: NOT INSTALLED or UNKNOWN VERSION.\n",
      "clearml version: NOT INSTALLED or UNKNOWN VERSION.\n",
      "\n",
      "For details about installing the optional dependencies, please visit:\n",
      "    https://docs.monai.io/en/latest/installation.html#installing-the-recommended-dependencies\n",
      "\n"
     ]
    }
   ],
   "source": [
    "import os\n",
    "import numpy as np\n",
    "import torch\n",
    "from monai.transforms import (\n",
    "    Compose, LoadImaged, EnsureChannelFirstd, Spacingd,\n",
    "    ScaleIntensityRanged, CropForegroundd, RandCropByPosNegLabeld, ToTensord\n",
    ")\n",
    "from monai.data import CacheDataset, DataLoader, Dataset\n",
    "from monai.config import print_config\n",
    "from monai.networks.nets import UNETR\n",
    "from monai.inferers import sliding_window_inference\n",
    "from monai.data import decollate_batch\n",
    "from monai.metrics import DiceMetric\n",
    "\n",
    "print_config()\n"
   ]
  },
  {
   "cell_type": "code",
   "execution_count": 5,
   "metadata": {
    "tags": []
   },
   "outputs": [
    {
     "name": "stdout",
     "output_type": "stream",
     "text": [
      "Preprocessed image shape: torch.Size([1, 1, 64, 64, 64])\n"
     ]
    }
   ],
   "source": [
    "# printing the results\n",
    "\n",
    "# Define the transformation pipeline for the single image\n",
    "single_image_transforms = Compose(\n",
    "    [\n",
    "        LoadImaged(keys=[\"image\"], reader=\"nrrdreader\"),\n",
    "        EnsureChannelFirstd(keys=[\"image\"]),\n",
    "        Spacingd(\n",
    "            keys=[\"image\"],\n",
    "            pixdim=(1.0, 1.0, 1.0),\n",
    "            mode=(\"bilinear\"),\n",
    "        ),\n",
    "        ScaleIntensityRanged(\n",
    "            keys=[\"image\"],\n",
    "            a_min=-200,\n",
    "            a_max=200,\n",
    "            b_min=0.0,\n",
    "            b_max=1.0,\n",
    "            clip=True,\n",
    "        ),\n",
    "        CropForegroundd(keys=[\"image\"], source_key=\"image\"),\n",
    "        ToTensord(keys=[\"image\"]),\n",
    "    ]\n",
    ")\n",
    "\n",
    "\n",
    "# Example NRRD file path\n",
    "image_file = \"./Synth3DVal/im0.nii.gz\"\n",
    "\n",
    "# Create a dictionary for the single image\n",
    "single_image_data = [{\"image\": image_file}]\n",
    "\n",
    "# Create a Dataset for the single image\n",
    "single_image_ds = Dataset(data=single_image_data, transform=single_image_transforms)\n",
    "\n",
    "# Load and preprocess the image\n",
    "single_image_loader = DataLoader(single_image_ds, batch_size=1)\n",
    "single_image_batch = next(iter(single_image_loader))\n",
    "single_image = single_image_batch[\"image\"]\n",
    "\n",
    "# Print the shape of the preprocessed image\n",
    "print(f\"Preprocessed image shape: {single_image.shape}\")\n"
   ]
  },
  {
   "cell_type": "code",
   "execution_count": 8,
   "metadata": {
    "tags": []
   },
   "outputs": [
    {
     "name": "stdout",
     "output_type": "stream",
     "text": [
      "Segmentation output shape: (1, 64, 64, 64)\n"
     ]
    }
   ],
   "source": [
    "# Define the model (for example, UNet)\n",
    "model = UNETR(\n",
    "    in_channels=1,\n",
    "    out_channels=14,\n",
    "    img_size=(32, 32, 32),\n",
    "    feature_size=16,\n",
    "    hidden_size=768,\n",
    "    mlp_dim=3072,\n",
    "    num_heads=12,\n",
    "    pos_embed=\"conv\",\n",
    "    norm_name=\"instance\",\n",
    "    res_block=True,\n",
    "    dropout_rate=0.0,\n",
    ").cuda()\n",
    "\n",
    "# Load pre-trained model weights (modify the path as needed)\n",
    "model.load_state_dict(torch.load(\"./logs/fine/best_metric_model.pth\"))\n",
    "model.eval()\n",
    "\n",
    "# Perform inference\n",
    "with torch.no_grad():\n",
    "    single_image = single_image.cuda()\n",
    "    output = sliding_window_inference(single_image, roi_size=(32, 32, 32), sw_batch_size=1, predictor=model)\n",
    "\n",
    "# Convert the output to a binary mask\n",
    "output = torch.argmax(output, dim=1).cpu().numpy()\n",
    "print(f\"Segmentation output shape: {output.shape}\")\n"
   ]
  },
  {
   "cell_type": "code",
   "execution_count": 12,
   "metadata": {
    "tags": []
   },
   "outputs": [
    {
     "data": {
      "image/png": "[encoded data removed]",
      "text/plain": [
       "<Figure size 1200x600 with 2 Axes>"
      ]
     },
     "metadata": {},
     "output_type": "display_data"
    }
   ],
   "source": [
    "# Extract a slice from the input image and the segmentation output\n",
    "slice = 20\n",
    "\n",
    "input_slice = single_image[0, 0, :, :, slice].cpu().numpy()  # Extracting slice 16\n",
    "output_slice = output[0, :, :, slice]  # Extracting the same slice from the output\n",
    "\n",
    "# Visualize input and output as subplots\n",
    "fig, axes = plt.subplots(1, 2, figsize=(12, 6))\n",
    "\n",
    "# Input image subplot\n",
    "axes[0].imshow(input_slice, cmap=\"gray\")\n",
    "axes[0].set_title(\"Input Image (Slice 16)\")\n",
    "axes[0].axis(\"off\")\n",
    "\n",
    "# Segmentation output subplot\n",
    "axes[1].imshow(output_slice, cmap=\"gray\")\n",
    "axes[1].set_title(\"Segmentation Output (Slice 16)\")\n",
    "axes[1].axis(\"off\")\n",
    "\n",
    "plt.show()\n"
   ]
  },
  {
   "cell_type": "code",
   "execution_count": null,
   "metadata": {},
   "outputs": [],
   "source": []
  }
 ],
 "metadata": {
  "kernelspec": {
   "display_name": "SSLUnet",
   "language": "python",
   "name": "sslunet"
  },
  "language_info": {
   "codemirror_mode": {
    "name": "ipython",
    "version": 3
   },
   "file_extension": ".py",
   "mimetype": "text/x-python",
   "name": "python",
   "nbconvert_exporter": "python",
   "pygments_lexer": "ipython3",
   "version": "3.11.4"
  }
 },
 "nbformat": 4,
 "nbformat_minor": 4
}
