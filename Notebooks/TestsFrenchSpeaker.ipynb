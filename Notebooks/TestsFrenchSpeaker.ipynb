{
 "cells": [
  {
   "cell_type": "code",
   "execution_count": 11,
   "metadata": {},
   "outputs": [],
   "source": [
    "# %%\n",
    "# Import libraries\n",
    "import os\n",
    "import torch\n",
    "import numpy as np\n",
    "from tqdm import tqdm\n",
    "import matplotlib.pyplot as plt\n",
    "import argparse\n",
    "import mlflow\n",
    "from torch.nn import DataParallel\n",
    "\n",
    "from monai.losses import DiceCELoss\n",
    "from monai.inferers import sliding_window_inference\n",
    "from monai.transforms import (\n",
    "    AsDiscrete,\n",
    "    Compose,\n",
    "    CropForegroundd,\n",
    "    EnsureChannelFirstd,\n",
    "    LoadImaged,\n",
    "    RandFlipd,\n",
    "    RandShiftIntensityd,\n",
    "    ScaleIntensityd,\n",
    "    SpatialPadd,\n",
    "    RandSpatialCropSamplesd,\n",
    "    LambdaD,\n",
    "    ConcatItemsd,\n",
    "    RandRotate90d,\n",
    "    ToTensord\n",
    ")\n",
    "from monai.metrics import DiceMetric\n",
    "from monai.networks.nets import UNETR\n",
    "from monai.data import (\n",
    "    DataLoader,\n",
    "    CacheDataset,\n",
    "    decollate_batch,\n",
    ")"
   ]
  },
  {
   "cell_type": "code",
   "execution_count": 12,
   "metadata": {},
   "outputs": [
    {
     "name": "stdout",
     "output_type": "stream",
     "text": [
      "Training datalist setup: {'image0': '/home/erattakulangara/hpchome/DeepLearningAlgo/2024-SSLUnetR/Data/VoiceUsers/Train/user2/4 3DGRE_A FATHER 3D.nrrd', 'image1': '/home/erattakulangara/hpchome/DeepLearningAlgo/2024-SSLUnetR/Data/VoiceUsers/Train/user2/5 3DGRE_I FEET 3D.nrrd', 'image2': '/home/erattakulangara/hpchome/DeepLearningAlgo/2024-SSLUnetR/Data/VoiceUsers/Train/user2/6 3DGRE_E HEAD.nrrd', 'image3': '/home/erattakulangara/hpchome/DeepLearningAlgo/2024-SSLUnetR/Data/VoiceUsers/Train/user2/7 3DGRE_o NO.nrrd', 'image4': '/home/erattakulangara/hpchome/DeepLearningAlgo/2024-SSLUnetR/Data/VoiceUsers/Train/user2/8 3DGRE_u FOOD.nrrd', 'label0': '/home/erattakulangara/hpchome/DeepLearningAlgo/2024-SSLUnetR/Data/VoiceUsers/Train/user2/4 3DGRE_A FATHER 3D.seg.nrrd', 'label1': '/home/erattakulangara/hpchome/DeepLearningAlgo/2024-SSLUnetR/Data/VoiceUsers/Train/user2/5 3DGRE_I FEET 3D.seg.nrrd', 'label2': '/home/erattakulangara/hpchome/DeepLearningAlgo/2024-SSLUnetR/Data/VoiceUsers/Train/user2/6 3DGRE_E HEAD.seg.nrrd', 'label3': '/home/erattakulangara/hpchome/DeepLearningAlgo/2024-SSLUnetR/Data/VoiceUsers/Train/user2/7 3DGRE_o NO.seg.nrrd', 'label4': '/home/erattakulangara/hpchome/DeepLearningAlgo/2024-SSLUnetR/Data/VoiceUsers/Train/user2/8 3DGRE_u FOOD.seg.nrrd'}\n"
     ]
    }
   ],
   "source": [
    "\n",
    "def create_multichannel_datalist(image_filenames, label_filenames, stack_size=5):\n",
    "    datalist = []\n",
    "    end = len(image_filenames) - stack_size + 1\n",
    "    start = 0\n",
    "    while start <= end:\n",
    "        img_dict = {}\n",
    "        for j in range(stack_size):\n",
    "            img_dict[f\"image{j}\"] = str(image_filenames[start + j])\n",
    "        for j in range(stack_size):\n",
    "            img_dict[f\"label{j}\"] = str(label_filenames[start + j])\n",
    "        datalist.append(img_dict)\n",
    "        start += stack_size\n",
    "    return datalist\n",
    "# Train location\n",
    "train_dir = \"/home/erattakulangara/hpchome/DeepLearningAlgo/2024-SSLUnetR/Data/VoiceUsers/Train/user2\"\n",
    "val_dir = train_dir\n",
    "# Gather training and validation image paths\n",
    "train_nrrd_files = sorted([\n",
    "    os.path.join(train_dir, f) for f in os.listdir(train_dir) \n",
    "    if f.endswith(\".nrrd\") and not f.endswith(\".seg.nrrd\")\n",
    "])\n",
    "train_seg_nrrd_files = sorted([\n",
    "    os.path.join(train_dir, f) for f in os.listdir(train_dir) \n",
    "    if f.endswith(\".seg.nrrd\")\n",
    "])\n",
    "\n",
    "val_nrrd_files = sorted([\n",
    "    os.path.join(val_dir, f) for f in os.listdir(val_dir) \n",
    "    if f.endswith(\".nrrd\") and not f.endswith(\".seg.nrrd\")\n",
    "])\n",
    "val_seg_nrrd_files = sorted([\n",
    "    os.path.join(val_dir, f) for f in os.listdir(val_dir) \n",
    "    if f.endswith(\".seg.nrrd\")\n",
    "])\n",
    "\n",
    "# Create data lists for training and validation\n",
    "train_datalist = create_multichannel_datalist(train_nrrd_files, train_seg_nrrd_files)\n",
    "validation_datalist = create_multichannel_datalist(train_nrrd_files[:5], train_seg_nrrd_files[:5])\n",
    "print(f\"Training datalist setup: {train_datalist[0]}\")"
   ]
  },
  {
   "cell_type": "code",
   "execution_count": 35,
   "metadata": {},
   "outputs": [
    {
     "name": "stderr",
     "output_type": "stream",
     "text": [
      "/home/erattakulangara/virtenvs/SSLUnet/lib/python3.11/site-packages/monai/utils/deprecate_utils.py:321: FutureWarning: monai.transforms.croppad.dictionary CropForegroundd.__init__:allow_smaller: Current default value of argument `allow_smaller=True` has been deprecated since version 1.2. It will be changed to `allow_smaller=False` in version 1.5.\n",
      "  warn_deprecated(argname, msg, warning_category)\n"
     ]
    }
   ],
   "source": [
    "# %%\n",
    "# Define transforms for training and validation\n",
    "\n",
    "def binarize_label(label):\n",
    "    # Binarize the label: convert to 1 if > 0, else 0\n",
    "    return (label > 0).astype(label.dtype)\n",
    "\n",
    "def threshold_image(image):\n",
    "    # Threshold the image: set values below 0.08 to 0\n",
    "    return np.where(image < 0.08, 0, image)\n",
    "\n",
    "# Training transforms\n",
    "train_transforms = Compose([\n",
    "    LoadImaged(keys=[\"image0\", \"image1\", \"image2\", \"image3\", \"image4\", \"label0\",\"label1\",\"label2\",\"label3\",\"label4\"]),\n",
    "    EnsureChannelFirstd(keys=[\"image0\", \"image1\", \"image2\", \"image3\", \"image4\", \"label0\",\"label1\",\"label2\",\"label3\",\"label4\"]),\n",
    "    ConcatItemsd(keys=[\"image0\", \"image1\", \"image2\", \"image3\", \"image4\"], name=\"image\"),\n",
    "    ConcatItemsd(keys=[\"label0\",\"label1\",\"label2\",\"label3\",\"label4\"], name=\"label\"),\n",
    "    ScaleIntensityd(keys=[\"image\"], minv=0, maxv=1),\n",
    "    LambdaD(keys=\"label\", func=binarize_label),\n",
    "    LambdaD(keys=\"image\", func=threshold_image),\n",
    "    CropForegroundd(keys=[\"image\", \"label\"], source_key=\"image\"),\n",
    "    SpatialPadd(keys=[\"image\", \"label\"], spatial_size=(64, 64, 64)),\n",
    "    RandSpatialCropSamplesd(keys=[\"image\", \"label\"], roi_size=(64, 64, 64), random_size=False, num_samples=2),\n",
    "    RandFlipd(keys=[\"image\", \"label\"], spatial_axis=[0], prob=0.10),\n",
    "    RandFlipd(keys=[\"image\", \"label\"], spatial_axis=[1], prob=0.10),\n",
    "    RandFlipd(keys=[\"image\", \"label\"], spatial_axis=[2], prob=0.10),\n",
    "    RandRotate90d(keys=[\"image\", \"label\"], prob=0.10, max_k=3),\n",
    "    RandShiftIntensityd(keys=[\"image\"], offsets=0.10, prob=0.50),\n",
    "    ToTensord(keys=[\"image\", \"label\"]),\n",
    "])\n",
    "\n",
    "# Validation transforms\n",
    "val_transforms = Compose([\n",
    "    LoadImaged(keys=[\"image0\", \"image1\", \"image2\", \"image3\", \"image4\", \"label0\", \"label1\", \"label2\", \"label3\", \"label4\"]),\n",
    "    EnsureChannelFirstd(keys=[\"image0\", \"image1\", \"image2\", \"image3\", \"image4\", \"label0\", \"label1\", \"label2\", \"label3\", \"label4\"]),\n",
    "    ConcatItemsd(keys=[\"image0\", \"image1\", \"image2\", \"image3\", \"image4\"], name=\"image\"),\n",
    "    ConcatItemsd(keys=[\"label0\", \"label1\", \"label2\", \"label3\", \"label4\"], name=\"label\"),\n",
    "    ScaleIntensityd(keys=[\"image\"], minv=0, maxv=1),\n",
    "    LambdaD(keys=\"label\", func=binarize_label),\n",
    "    CropForegroundd(keys=[\"image\", \"label\"], source_key=\"image\"),\n",
    "    SpatialPadd(keys=[\"image\", \"label\"], spatial_size=(64, 64, 64)),\n",
    "    ToTensord(keys=[\"image\", \"label\"]),\n",
    "])"
   ]
  },
  {
   "cell_type": "code",
   "execution_count": 36,
   "metadata": {},
   "outputs": [
    {
     "name": "stderr",
     "output_type": "stream",
     "text": [
      "Loading dataset: 100%|██████████| 1/1 [00:01<00:00,  1.72s/it]\n",
      "Loading dataset: 100%|██████████| 1/1 [00:01<00:00,  1.40s/it]\n"
     ]
    }
   ],
   "source": [
    "# Create DataLoaders for training and validation\n",
    "\n",
    "train_ds = CacheDataset(data=train_datalist, transform=train_transforms,\n",
    "                        cache_num=24, cache_rate=1.0, num_workers=2)\n",
    "\n",
    "\n",
    "# Create DataLoader for training with the specified parameters\n",
    "train_loader = DataLoader(train_ds, batch_size=4,\n",
    "                          shuffle=True, num_workers=4, pin_memory=True)\n",
    "\n",
    "val_ds = CacheDataset(data=validation_datalist, transform=val_transforms,\n",
    "                      cache_num=6, cache_rate=1.0, num_workers=4)\n",
    "val_loader = DataLoader(val_ds, batch_size=1,\n",
    "                        shuffle=False, num_workers=4, pin_memory=True)"
   ]
  },
  {
   "cell_type": "code",
   "execution_count": 39,
   "metadata": {},
   "outputs": [
    {
     "name": "stdout",
     "output_type": "stream",
     "text": [
      "dict_keys(['image0', 'image1', 'image2', 'image3', 'image4', 'label0', 'label1', 'label2', 'label3', 'label4', 'image', 'label', 'foreground_start_coord', 'foreground_end_coord'])\n",
      "torch.Size([2, 5, 64, 64, 64])\n"
     ]
    },
    {
     "data": {
      "image/png": "[encoded data removed]",
      "text/plain": [
       "<Figure size 640x480 with 1 Axes>"
      ]
     },
     "metadata": {},
     "output_type": "display_data"
    }
   ],
   "source": [
    "#visualizing the dataset\n",
    "\n",
    "import matplotlib.pyplot as plt\n",
    "\n",
    "for sample in train_loader:\n",
    "    \n",
    "    if isinstance(sample, dict):\n",
    "        print(sample.keys())\n",
    "        print(sample['image'].shape)\n",
    "        plt.imshow(sample['label'][0,0,:,:,30], cmap=\"grey\")"
   ]
  },
  {
   "cell_type": "code",
   "execution_count": null,
   "metadata": {},
   "outputs": [],
   "source": []
  }
 ],
 "metadata": {
  "kernelspec": {
   "display_name": "SSLUnet",
   "language": "python",
   "name": "python3"
  },
  "language_info": {
   "codemirror_mode": {
    "name": "ipython",
    "version": 3
   },
   "file_extension": ".py",
   "mimetype": "text/x-python",
   "name": "python",
   "nbconvert_exporter": "python",
   "pygments_lexer": "ipython3",
   "version": "3.11.4"
  },
  "orig_nbformat": 4
 },
 "nbformat": 4,
 "nbformat_minor": 2
}
