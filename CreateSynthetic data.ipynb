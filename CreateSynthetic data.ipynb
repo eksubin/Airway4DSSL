{
 "cells": [
  {
   "cell_type": "code",
   "execution_count": 1,
   "id": "5ba996b0-c5e0-482d-856e-473f4bc0ae84",
   "metadata": {
    "tags": []
   },
   "outputs": [],
   "source": [
    "#creating synthetic data"
   ]
  },
  {
   "cell_type": "code",
   "execution_count": 1,
   "id": "749941a8-e285-45ce-9145-52a257a571ff",
   "metadata": {
    "tags": []
   },
   "outputs": [],
   "source": [
    "import nibabel as nib\n",
    "import numpy as np\n",
    "from monai.config import print_config\n",
    "from monai.data import ArrayDataset, create_test_image_3d\n",
    "import os, glob"
   ]
  },
  {
   "cell_type": "code",
   "execution_count": 6,
   "id": "299b13d2-0704-457d-97fc-198e888ecf85",
   "metadata": {
    "tags": []
   },
   "outputs": [],
   "source": [
    "root_dir = \"./Synth3DValTrain\""
   ]
  },
  {
   "cell_type": "code",
   "execution_count": 7,
   "id": "ef66c5d0-b49c-495f-a973-d1d930b77cb0",
   "metadata": {
    "tags": []
   },
   "outputs": [],
   "source": [
    "for i in range(10):\n",
    "    im, seg = create_test_image_3d(64, 64, 64, num_seg_classes=1)\n",
    "\n",
    "    n = nib.Nifti1Image(im, np.eye(4))\n",
    "    nib.save(n, os.path.join(root_dir, f\"im{i}.nii.gz\"))\n",
    "\n",
    "    n = nib.Nifti1Image(seg, np.eye(4))\n",
    "    nib.save(n, os.path.join(root_dir, f\"seg{i}.nii.gz\"))\n",
    "\n",
    "images = sorted(glob.glob(os.path.join(root_dir, \"im*.nii.gz\")))\n",
    "segs = sorted(glob.glob(os.path.join(root_dir, \"seg*.nii.gz\")))"
   ]
  },
  {
   "cell_type": "code",
   "execution_count": null,
   "id": "f5e77f1c-8b4b-42ad-8438-e70225dff58d",
   "metadata": {},
   "outputs": [],
   "source": []
  },
  {
   "cell_type": "code",
   "execution_count": null,
   "id": "2e939c69-8848-4a31-9874-48613370b75f",
   "metadata": {},
   "outputs": [],
   "source": []
  }
 ],
 "metadata": {
  "kernelspec": {
   "display_name": "unetSSL",
   "language": "python",
   "name": "python3"
  },
  "language_info": {
   "codemirror_mode": {
    "name": "ipython",
    "version": 3
   },
   "file_extension": ".py",
   "mimetype": "text/x-python",
   "name": "python",
   "nbconvert_exporter": "python",
   "pygments_lexer": "ipython3",
   "version": "3.11.8"
  }
 },
 "nbformat": 4,
 "nbformat_minor": 5
}
