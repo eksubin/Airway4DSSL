{
 "cells": [
  {
   "cell_type": "code",
   "execution_count": 2,
   "metadata": {},
   "outputs": [],
   "source": [
    "import requests\n",
    "import os\n",
    "\n",
    "\n",
    "def download_file(url, output_path):\n",
    "    # Ensure output directory exists\n",
    "    os.makedirs(os.path.dirname(output_path), exist_ok=True)\n",
    "\n",
    "    # Stream the file download\n",
    "    with requests.get(url, stream=True) as r:\n",
    "        r.raise_for_status()\n",
    "        with open(output_path, 'wb') as f:\n",
    "            for chunk in r.iter_content(chunk_size=8192):\n",
    "                f.write(chunk)\n",
    "\n",
    "\n",
    "# Example usage\n",
    "# Replace with the direct download link\n",
    "url = 'https://springernature.figshare.com/ndownloader/files/28531989'\n",
    "output_directory = './Raw'  # Replace with your desired output directory path\n",
    "filename = 'P3.zip'  # Replace with your desired filename and extension\n",
    "\n",
    "# Construct full output path\n",
    "output_path = os.path.join(output_directory, filename)\n",
    "\n",
    "download_file(url, output_path)"
   ]
  },
  {
   "cell_type": "code",
   "execution_count": 1,
   "metadata": {},
   "outputs": [
    {
     "name": "stdout",
     "output_type": "stream",
     "text": [
      "https://springernature.figshare.com/ndownloader/files/28532034\n",
      "https://springernature.figshare.com/ndownloader/files/28532001\n",
      "https://springernature.figshare.com/ndownloader/files/28532004\n",
      "https://springernature.figshare.com/ndownloader/files/28532016\n"
     ]
    }
   ],
   "source": [
    "import requests\n",
    "import os\n",
    "\n",
    "folders = {#'P4.zip':'https://springernature.figshare.com/ndownloader/files/28531995',\n",
    "            #'P5.zip':'https://springernature.figshare.com/ndownloader/files/28532028',\n",
    "           #'P6.zip': 'https://springernature.figshare.com/ndownloader/files/28531998',\n",
    "           'P7.zip': 'https://springernature.figshare.com/ndownloader/files/28532034',\n",
    "           'P8.zip':'https://springernature.figshare.com/ndownloader/files/28532001',\n",
    "           'P9.zip':'https://springernature.figshare.com/ndownloader/files/28532004',\n",
    "           'P10.zip': 'https://springernature.figshare.com/ndownloader/files/28532016'\n",
    "           }\n",
    "\n",
    "\n",
    "def download_file(url, output_path):\n",
    "    # Ensure output directory exists\n",
    "    os.makedirs(os.path.dirname(output_path), exist_ok=True)\n",
    "\n",
    "    # Stream the file download\n",
    "    with requests.get(url, stream=True) as r:\n",
    "        r.raise_for_status()\n",
    "        with open(output_path, 'wb') as f:\n",
    "            for chunk in r.iter_content(chunk_size=8192):\n",
    "                f.write(chunk)\n",
    "\n",
    "\n",
    "for key, value in folders.items():\n",
    "    print(value)\n",
    "    # Construct full output path\n",
    "    output_path = os.path.join('./Raw', key)\n",
    "\n",
    "    download_file(value, output_path)"
   ]
  },
  {
   "cell_type": "code",
   "execution_count": null,
   "metadata": {},
   "outputs": [],
   "source": []
  }
 ],
 "metadata": {
  "kernelspec": {
   "display_name": "SSLUnet",
   "language": "python",
   "name": "sslunet"
  },
  "language_info": {
   "codemirror_mode": {
    "name": "ipython",
    "version": 3
   },
   "file_extension": ".py",
   "mimetype": "text/x-python",
   "name": "python",
   "nbconvert_exporter": "python",
   "pygments_lexer": "ipython3",
   "version": "3.11.4"
  },
  "orig_nbformat": 4
 },
 "nbformat": 4,
 "nbformat_minor": 2
}
