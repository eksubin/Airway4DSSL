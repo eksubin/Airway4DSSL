{
 "cells": [
  {
   "cell_type": "code",
   "execution_count": 4,
   "metadata": {
    "tags": []
   },
   "outputs": [
    {
     "name": "stdout",
     "output_type": "stream",
     "text": [
      "MONAI version: 1.4.dev2414\n",
      "Numpy version: 1.26.4\n",
      "Pytorch version: 2.2.2+cu121\n",
      "MONAI flags: HAS_EXT = False, USE_COMPILED = False, USE_META_DICT = False\n",
      "MONAI rev id: 5b248f6a0dd29cb9c2a9545f980a88de16a6b753\n",
      "MONAI __file__: /home/<username>/virtenvs/SSLUnet/lib/python3.11/site-packages/monai/__init__.py\n",
      "\n",
      "Optional dependencies:\n",
      "Pytorch Ignite version: NOT INSTALLED or UNKNOWN VERSION.\n",
      "ITK version: NOT INSTALLED or UNKNOWN VERSION.\n",
      "Nibabel version: 5.2.1\n",
      "scikit-image version: 0.22.0\n",
      "scipy version: 1.13.0\n",
      "Pillow version: 10.3.0\n",
      "Tensorboard version: NOT INSTALLED or UNKNOWN VERSION.\n",
      "gdown version: NOT INSTALLED or UNKNOWN VERSION.\n",
      "TorchVision version: NOT INSTALLED or UNKNOWN VERSION.\n",
      "tqdm version: 4.66.2\n",
      "lmdb version: NOT INSTALLED or UNKNOWN VERSION.\n",
      "psutil version: 5.9.8\n",
      "pandas version: NOT INSTALLED or UNKNOWN VERSION.\n",
      "einops version: 0.7.0\n",
      "transformers version: NOT INSTALLED or UNKNOWN VERSION.\n",
      "mlflow version: NOT INSTALLED or UNKNOWN VERSION.\n",
      "pynrrd version: NOT INSTALLED or UNKNOWN VERSION.\n",
      "clearml version: NOT INSTALLED or UNKNOWN VERSION.\n",
      "\n",
      "For details about installing the optional dependencies, please visit:\n",
      "    https://docs.monai.io/en/latest/installation.html#installing-the-recommended-dependencies\n",
      "\n"
     ]
    }
   ],
   "source": [
    "import os\n",
    "import numpy as np\n",
    "import torch\n",
    "from monai.transforms import (\n",
    "    Compose, LoadImaged, EnsureChannelFirstd, Spacingd,\n",
    "    ScaleIntensityRanged, CropForegroundd, RandCropByPosNegLabeld, ToTensord\n",
    ")\n",
    "from monai.data import CacheDataset, DataLoader, Dataset\n",
    "from monai.config import print_config\n",
    "from monai.networks.nets import UNETR\n",
    "from monai.inferers import sliding_window_inference\n",
    "from monai.data import decollate_batch\n",
    "from monai.metrics import DiceMetric\n",
    "\n",
    "print_config()\n"
   ]
  },
  {
   "cell_type": "code",
   "execution_count": 5,
   "metadata": {
    "tags": []
   },
   "outputs": [
    {
     "name": "stdout",
     "output_type": "stream",
     "text": [
      "Preprocessed image shape: torch.Size([1, 1, 64, 64, 64])\n"
     ]
    }
   ],
   "source": [
    "# printing the results\n",
    "\n",
    "# Define the transformation pipeline for the single image\n",
    "single_image_transforms = Compose(\n",
    "    [\n",
    "        LoadImaged(keys=[\"image\"], reader=\"nrrdreader\"),\n",
    "        EnsureChannelFirstd(keys=[\"image\"]),\n",
    "        Spacingd(\n",
    "            keys=[\"image\"],\n",
    "            pixdim=(1.0, 1.0, 1.0),\n",
    "            mode=(\"bilinear\"),\n",
    "        ),\n",
    "        ScaleIntensityRanged(\n",
    "            keys=[\"image\"],\n",
    "            a_min=-200,\n",
    "            a_max=200,\n",
    "            b_min=0.0,\n",
    "            b_max=1.0,\n",
    "            clip=True,\n",
    "        ),\n",
    "        CropForegroundd(keys=[\"image\"], source_key=\"image\"),\n",
    "        ToTensord(keys=[\"image\"]),\n",
    "    ]\n",
    ")\n",
    "\n",
    "\n",
    "# Example NRRD file path\n",
    "image_file = \"./Synth3DVal/im0.nii.gz\"\n",
    "\n",
    "# Create a dictionary for the single image\n",
    "single_image_data = [{\"image\": image_file}]\n",
    "\n",
    "# Create a Dataset for the single image\n",
    "single_image_ds = Dataset(data=single_image_data, transform=single_image_transforms)\n",
    "\n",
    "# Load and preprocess the image\n",
    "single_image_loader = DataLoader(single_image_ds, batch_size=1)\n",
    "single_image_batch = next(iter(single_image_loader))\n",
    "single_image = single_image_batch[\"image\"]\n",
    "\n",
    "# Print the shape of the preprocessed image\n",
    "print(f\"Preprocessed image shape: {single_image.shape}\")\n"
   ]
  },
  {
   "cell_type": "code",
   "execution_count": 8,
   "metadata": {
    "tags": []
   },
   "outputs": [
    {
     "name": "stdout",
     "output_type": "stream",
     "text": [
      "Segmentation output shape: (1, 64, 64, 64)\n"
     ]
    }
   ],
   "source": [
    "# Define the model (for example, UNet)\n",
    "model = UNETR(\n",
    "    in_channels=1,\n",
    "    out_channels=14,\n",
    "    img_size=(32, 32, 32),\n",
    "    feature_size=16,\n",
    "    hidden_size=768,\n",
    "    mlp_dim=3072,\n",
    "    num_heads=12,\n",
    "    pos_embed=\"conv\",\n",
    "    norm_name=\"instance\",\n",
    "    res_block=True,\n",
    "    dropout_rate=0.0,\n",
    ").cuda()\n",
    "\n",
    "# Load pre-trained model weights (modify the path as needed)\n",
    "model.load_state_dict(torch.load(\"./logs/fine/best_metric_model.pth\"))\n",
    "model.eval()\n",
    "\n",
    "# Perform inference\n",
    "with torch.no_grad():\n",
    "    single_image = single_image.cuda()\n",
    "    output = sliding_window_inference(single_image, roi_size=(32, 32, 32), sw_batch_size=1, predictor=model)\n",
    "\n",
    "# Convert the output to a binary mask\n",
    "output = torch.argmax(output, dim=1).cpu().numpy()\n",
    "print(f\"Segmentation output shape: {output.shape}\")\n"
   ]
  },
  {
   "cell_type": "code",
   "execution_count": 12,
   "metadata": {
    "tags": []
   },
   "outputs": [
    {
     "data": {
      "image/png": "[encoded data removed]",
      "text/plain": [
       "<Figure size 1200x600 with 2 Axes>"
      ]
     },
     "metadata": {},
     "output_type": "display_data"
    }
   ],
   "source": [
    "# Extract a slice from the input image and the segmentation output\n",
    "slice = 20\n",
    "\n",
    "input_slice = single_image[0, 0, :, :, slice].cpu().numpy()  # Extracting slice 16\n",
    "output_slice = output[0, :, :, slice]  # Extracting the same slice from the output\n",
    "\n",
    "# Visualize input and output as subplots\n",
    "fig, axes = plt.subplots(1, 2, figsize=(12, 6))\n",
    "\n",
    "# Input image subplot\n",
    "axes[0].imshow(input_slice, cmap=\"gray\")\n",
    "axes[0].set_title(\"Input Image (Slice 16)\")\n",
    "axes[0].axis(\"off\")\n",
    "\n",
    "# Segmentation output subplot\n",
    "axes[1].imshow(output_slice, cmap=\"gray\")\n",
    "axes[1].set_title(\"Segmentation Output (Slice 16)\")\n",
    "axes[1].axis(\"off\")\n",
    "\n",
    "plt.show()\n"
   ]
  },
  {
   "cell_type": "code",
   "execution_count": null,
   "metadata": {},
   "outputs": [],
   "source": []
  }
 ],
 "metadata": {
  "kernelspec": {
   "display_name": "SSLUnet",
   "language": "python",
   "name": "sslunet"
  },
  "language_info": {
   "codemirror_mode": {
    "name": "ipython",
    "version": 3
   },
   "file_extension": ".py",
   "mimetype": "text/x-python",
   "name": "python",
   "nbconvert_exporter": "python",
   "pygments_lexer": "ipython3",
   "version": "3.11.4"
  }
 },
 "nbformat": 4,
 "nbformat_minor": 4
}
